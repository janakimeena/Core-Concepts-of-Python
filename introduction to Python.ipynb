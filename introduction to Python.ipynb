{
 "cells": [
  {
   "cell_type": "markdown",
   "metadata": {
    "id": "bRmIV2NtSbNo",
    "slideshow": {
     "slide_type": "slide"
    }
   },
   "source": [
    "\n",
    "\n",
    "**Why Python?**\n",
    "\n",
    "\n",
    "*   Simple syntax\n",
    "*   Programs are clear and easy to read\n",
    "*   Companies and organizations that use Python include YouTube, Google, Yahoo, and NASA\n",
    "\n"
   ]
  },
  {
   "cell_type": "markdown",
   "metadata": {
    "id": "_dtjNHZnY2mE",
    "slideshow": {
     "slide_type": "slide"
    }
   },
   "source": [
    "**History of Python**\n",
    "*   Guido van Rossum – Creator \n",
    "*   Released in the early 1990s. \n",
    "*   Name comes from a 1970s British comedy sketch television show - Monty Python’s Flying Circus\n"
   ]
  },
  {
   "cell_type": "markdown",
   "metadata": {
    "id": "Zo-Ub05KS8gl",
    "slideshow": {
     "slide_type": "slide"
    }
   },
   "source": [
    "**Python Packages**\n",
    "\n",
    "Python packages are available for almost all required applications. Few are mentioned here:\n",
    "\n",
    "* Mathematics - Math, NumPy, SciPy, StatsModels\n",
    "* Web application development - Django, flask\n",
    "* OS and Networking - OS, Netmiko, NCClient etc\n",
    "* Database connectivity - MySQLDB, sqlite3, psycong2\n",
    "* Machine learning - Pandas, SciPy, Scikit-Learn\n",
    "\n"
   ]
  },
  {
   "cell_type": "markdown",
   "metadata": {
    "slideshow": {
     "slide_type": "subslide"
    }
   },
   "source": [
    "*  Deep Learning - Tensorflow, Keras, PyTorch, Theano\n",
    "*  Data Visulization - MatPlotLib, Seaborn, ggplot\n",
    "*  Text Processing - NLK Toolkit, Gensim, polyglot, textblob. CoreNLP\n",
    "*  IoT - MRAA\n",
    "*  Image Processing - OpenCV, Pillow, Scikit-image\n",
    "*  Graphics - tkinter, turtle\n",
    "*  Speech Processing - Pyaudio"
   ]
  },
  {
   "cell_type": "markdown",
   "metadata": {
    "id": "WMDdgdu-EAJ4",
    "slideshow": {
     "slide_type": "slide"
    }
   },
   "source": [
    "**Algorithm and Its Components**\n",
    "\n",
    "Algorithm is a sequence of steps to solve a problem. Components of algorithm are\n",
    "* Sequential - Order is important\n",
    "* Selectional - Select set of statements to be executed based on a boolean expression\n",
    "* Iterative - Repeat a set of statements"
   ]
  },
  {
   "cell_type": "markdown",
   "metadata": {
    "id": "SFqoc7VLYdqr",
    "slideshow": {
     "slide_type": "slide"
    }
   },
   "source": [
    "**Features of Python**\n",
    "*  Interpreted language\n",
    "*  Popular IDEs are IDLE, PyCharm, Spyder\n",
    "*  All IDEs provide two modes of execution - Interactive mode and script mode\n",
    "*  Dynamic typed languages that requires no declaration of variables\n",
    "*  Case-sensitive\n",
    "*  Strictly type checking language"
   ]
  },
  {
   "cell_type": "markdown",
   "metadata": {
    "id": "faJG_sqjaaOe",
    "slideshow": {
     "slide_type": "slide"
    }
   },
   "source": [
    "**Identifier**\n",
    "* Sequence of one or more characters used to name a given program element \n",
    "* An identifier may contain letters and digits, but cannot begin with a digit\n",
    "* Special character underscore can be used\n"
   ]
  },
  {
   "cell_type": "markdown",
   "metadata": {
    "id": "_ffjrEmBa50I",
    "slideshow": {
     "slide_type": "slide"
    }
   },
   "source": [
    "**Comments**\n",
    "* Very important for any program to do documentation\n",
    "<table>\n",
    "<tr> \n",
    "<td><b>Symbol</b></td>\n",
    "<td><b>Usage</b></td>\n",
    "<td><b>Meaning</b></td> \n",
    "</tr>\n",
    "<tr>\n",
    "<td> Hash </td>\n",
    "<td> # </td>\n",
    "<td> Single line comments </td> \n",
    "</tr>\n",
    "<tr>\n",
    "<td> Triple Single Quotes </td>\n",
    "<td> ''' .... '''</td>\n",
    "<td> Multi line comments </td> \n",
    "</tr>\n",
    "<tr>\n",
    "<td> Triple double quotes </td>\n",
    "<td> \"\"\"...\"\"\"</td>\n",
    "<td> Multi line comments/docs </td> \n",
    "</tr>\n",
    "</table>"
   ]
  },
  {
   "cell_type": "code",
   "execution_count": 1,
   "metadata": {
    "id": "qO7U4hHWa4np",
    "slideshow": {
     "slide_type": "slide"
    }
   },
   "outputs": [],
   "source": [
    "# Literals - Sequence of one or more characters that stands for itself\n",
    "# Advantage - Data can be large\n",
    "a = 123 # Integer\n",
    "b = 2.4 # real values\n",
    "c = 'hello' # strings\n",
    "d = \"Hello\""
   ]
  },
  {
   "cell_type": "code",
   "execution_count": 3,
   "metadata": {
    "colab": {
     "base_uri": "https://localhost:8080/"
    },
    "id": "GKkFzCizYZqw",
    "outputId": "10564a5f-8249-4a40-ee86-46c8c722dbc9",
    "slideshow": {
     "slide_type": "slide"
    }
   },
   "outputs": [
    {
     "data": {
      "text/plain": [
       "float"
      ]
     },
     "execution_count": 3,
     "metadata": {},
     "output_type": "execute_result"
    }
   ],
   "source": [
    "# Data type of a variable\n",
    "type(b)"
   ]
  },
  {
   "cell_type": "markdown",
   "metadata": {
    "id": "yyxrAhDOoLNH",
    "slideshow": {
     "slide_type": "slide"
    }
   },
   "source": [
    "**Data Types in Python**\n",
    "\n",
    "Data types supported by Python\n",
    "* Boolean values\n",
    "* None\n",
    "* Numbers\n",
    "* Strings\n",
    "\n",
    "\n"
   ]
  },
  {
   "cell_type": "markdown",
   "metadata": {
    "slideshow": {
     "slide_type": "subslide"
    }
   },
   "source": [
    "* Tuples\n",
    "* Lists\n",
    "* Dictionary\n",
    "* Sets"
   ]
  },
  {
   "cell_type": "markdown",
   "metadata": {
    "id": "4l5ELQOBpmHk",
    "slideshow": {
     "slide_type": "slide"
    }
   },
   "source": [
    "**Different types of numbers**\n",
    "\n",
    "* Integers\n",
    "* Floating-point numbers\n",
    "* Complex numbers\n",
    "* Fractional numbers"
   ]
  },
  {
   "cell_type": "markdown",
   "metadata": {
    "id": "pvbyZDFqqKMj",
    "slideshow": {
     "slide_type": "slide"
    }
   },
   "source": [
    "**Complex Numbers**\n",
    "* Consists of an ordered pair of real floating point numbers denoted by a + bj, where a is the real part and b is the imaginary part of the complex number\n",
    "* complex(x) - Create complex number with real part x and imaginary part zero\n",
    "* complex(x, y) - Create a complex number with real part x and imaginary part y\n"
   ]
  },
  {
   "cell_type": "code",
   "execution_count": 6,
   "metadata": {
    "id": "KSTJGikASr8s",
    "slideshow": {
     "slide_type": "slide"
    }
   },
   "outputs": [],
   "source": [
    "c1 = 2+3j\n",
    "c2 = 4+7j"
   ]
  },
  {
   "cell_type": "code",
   "execution_count": 2,
   "metadata": {
    "colab": {
     "base_uri": "https://localhost:8080/"
    },
    "id": "BH1Te69iqrnk",
    "outputId": "41b10fe0-5bfd-4aa3-931e-5aa785103fcf",
    "slideshow": {
     "slide_type": "slide"
    }
   },
   "outputs": [
    {
     "data": {
      "text/plain": [
       "2.0"
      ]
     },
     "execution_count": 2,
     "metadata": {},
     "output_type": "execute_result"
    }
   ],
   "source": [
    "c1.real"
   ]
  },
  {
   "cell_type": "code",
   "execution_count": 8,
   "metadata": {
    "colab": {
     "base_uri": "https://localhost:8080/"
    },
    "id": "UqmNj8XtqtNW",
    "outputId": "6c3e6e99-3a03-4b3a-821a-c6d414018e70",
    "slideshow": {
     "slide_type": "slide"
    }
   },
   "outputs": [
    {
     "data": {
      "text/plain": [
       "7.0"
      ]
     },
     "execution_count": 8,
     "metadata": {},
     "output_type": "execute_result"
    }
   ],
   "source": [
    "c2.imag"
   ]
  },
  {
   "cell_type": "code",
   "execution_count": 11,
   "metadata": {
    "colab": {
     "base_uri": "https://localhost:8080/"
    },
    "id": "ajFKMQT9quZI",
    "outputId": "e7649394-d3fb-4a3e-e28a-6ef98dfbde35",
    "slideshow": {
     "slide_type": "slide"
    }
   },
   "outputs": [
    {
     "data": {
      "text/plain": [
       "(6+10j)"
      ]
     },
     "execution_count": 11,
     "metadata": {},
     "output_type": "execute_result"
    }
   ],
   "source": [
    "c3 = c1+c2\n",
    "c3"
   ]
  },
  {
   "cell_type": "code",
   "execution_count": 113,
   "metadata": {
    "colab": {
     "base_uri": "https://localhost:8080/"
    },
    "id": "WNMsQWalqwB4",
    "outputId": "4eb0b781-be57-4118-d047-76fabbb91186",
    "slideshow": {
     "slide_type": "slide"
    }
   },
   "outputs": [
    {
     "data": {
      "text/plain": [
       "(-2-4j)"
      ]
     },
     "execution_count": 113,
     "metadata": {},
     "output_type": "execute_result"
    }
   ],
   "source": [
    "c1-c2"
   ]
  },
  {
   "cell_type": "code",
   "execution_count": 114,
   "metadata": {
    "colab": {
     "base_uri": "https://localhost:8080/"
    },
    "id": "8EFpGRd5qxpN",
    "outputId": "a53df9b4-91d2-41b1-db46-e450546b3701",
    "slideshow": {
     "slide_type": "slide"
    }
   },
   "outputs": [
    {
     "data": {
      "text/plain": [
       "(-13+26j)"
      ]
     },
     "execution_count": 114,
     "metadata": {},
     "output_type": "execute_result"
    }
   ],
   "source": [
    "c1*c2"
   ]
  },
  {
   "cell_type": "markdown",
   "metadata": {
    "id": "6suZynZ8q2if",
    "slideshow": {
     "slide_type": "slide"
    }
   },
   "source": [
    "**Reading Input from Console**\n"
   ]
  },
  {
   "cell_type": "code",
   "execution_count": 12,
   "metadata": {
    "colab": {
     "base_uri": "https://localhost:8080/"
    },
    "id": "5dwAE2u3qzKC",
    "outputId": "331feda4-b522-4546-914f-900ccd2851e1",
    "slideshow": {
     "slide_type": "slide"
    }
   },
   "outputs": [
    {
     "name": "stdout",
     "output_type": "stream",
     "text": [
      "3\n"
     ]
    }
   ],
   "source": [
    "# input function read a value from user as string\n",
    "first = input()"
   ]
  },
  {
   "cell_type": "code",
   "execution_count": 13,
   "metadata": {
    "colab": {
     "base_uri": "https://localhost:8080/"
    },
    "id": "Q9HoYnRRrBW2",
    "outputId": "e0380ade-e8ba-4fc5-ef11-783dbd27b5e1",
    "slideshow": {
     "slide_type": "slide"
    }
   },
   "outputs": [
    {
     "data": {
      "text/plain": [
       "str"
      ]
     },
     "execution_count": 13,
     "metadata": {},
     "output_type": "execute_result"
    }
   ],
   "source": [
    "type(first)"
   ]
  },
  {
   "cell_type": "code",
   "execution_count": 15,
   "metadata": {
    "colab": {
     "base_uri": "https://localhost:8080/"
    },
    "id": "xuCWf9S4rD1D",
    "outputId": "98a2abc2-d41f-4b34-b2d3-2c6d21976d57",
    "slideshow": {
     "slide_type": "slide"
    }
   },
   "outputs": [
    {
     "name": "stdout",
     "output_type": "stream",
     "text": [
      "Enter first number2\n",
      "Enter Second number3\n",
      "23\n"
     ]
    }
   ],
   "source": [
    "first = int(input('Enter first number'))\n",
    "second = int(input('Enter Second number'))\n",
    "sum_of_nums = first+second\n",
    "print(sum_of_nums)"
   ]
  },
  {
   "cell_type": "markdown",
   "metadata": {
    "id": "c1IBGSWwsAbc",
    "slideshow": {
     "slide_type": "slide"
    }
   },
   "source": [
    "**Type of Operators**\n",
    "* Arithmetic Operators\n",
    "* Bitwise Operators\n",
    "* Comparison Operators\n",
    "* Logical Operators"
   ]
  },
  {
   "cell_type": "markdown",
   "metadata": {
    "id": "DK_XGVYysUww",
    "slideshow": {
     "slide_type": "slide"
    }
   },
   "source": [
    "**Order of Evaluation**\n",
    "* Based on precedence and associativity of the operators\n",
    "* Similar to BODMAS rule in mathematics"
   ]
  },
  {
   "cell_type": "code",
   "execution_count": 119,
   "metadata": {
    "colab": {
     "base_uri": "https://localhost:8080/",
     "height": 562
    },
    "id": "_u2h2NuGGr__",
    "outputId": "5b164414-7658-4e6a-9e0b-6c582ffa4c37",
    "slideshow": {
     "slide_type": "slide"
    }
   },
   "outputs": [
    {
     "data": {
      "image/png": "[encoded data removed]",
      "text/plain": [
       "<PIL.Image.Image image mode=RGBA size=604x545 at 0x7F51CE413C50>"
      ]
     },
     "metadata": {},
     "output_type": "display_data"
    }
   ],
   "source": [
    "from google.colab.patches import cv2_imshow\n",
    "import cv2\n",
    "img = cv2.imread('preced.png', cv2.IMREAD_UNCHANGED)\n",
    "cv2_imshow(img)"
   ]
  },
  {
   "cell_type": "markdown",
   "metadata": {
    "id": "Kn16a9eDsBFI",
    "slideshow": {
     "slide_type": "slide"
    }
   },
   "source": [
    "**Arithmetic Operators**\n",
    "* Addition - '+'\n",
    "* Subtraction - '-'\n",
    "* Multiplication -'*'\n",
    "* True Division - '/'\n",
    "* Integer Division - '//'\n",
    "* Modulus - '%'\n",
    "* Compound assignnment - '+=','-=','*=','/=','//=','%='"
   ]
  },
  {
   "cell_type": "code",
   "execution_count": 16,
   "metadata": {
    "colab": {
     "base_uri": "https://localhost:8080/"
    },
    "id": "Nfx8wxXmrtEW",
    "outputId": "788bab60-ba63-4f58-eb49-f1303120f5fa",
    "slideshow": {
     "slide_type": "slide"
    }
   },
   "outputs": [
    {
     "data": {
      "text/plain": [
       "5"
      ]
     },
     "execution_count": 16,
     "metadata": {},
     "output_type": "execute_result"
    }
   ],
   "source": [
    "2+3"
   ]
  },
  {
   "cell_type": "code",
   "execution_count": 121,
   "metadata": {
    "colab": {
     "base_uri": "https://localhost:8080/"
    },
    "id": "CH3V6hrpwptd",
    "outputId": "92ee8828-87ad-42c0-f646-a41a66c1e76a",
    "slideshow": {
     "slide_type": "slide"
    }
   },
   "outputs": [
    {
     "data": {
      "text/plain": [
       "2"
      ]
     },
     "execution_count": 121,
     "metadata": {},
     "output_type": "execute_result"
    }
   ],
   "source": [
    "3-1"
   ]
  },
  {
   "cell_type": "code",
   "execution_count": 17,
   "metadata": {
    "colab": {
     "base_uri": "https://localhost:8080/"
    },
    "id": "UuNYx2quwr1I",
    "outputId": "59cab433-7bd2-4e41-8b69-152118c78055",
    "slideshow": {
     "slide_type": "slide"
    }
   },
   "outputs": [
    {
     "data": {
      "text/plain": [
       "2.5"
      ]
     },
     "execution_count": 17,
     "metadata": {},
     "output_type": "execute_result"
    }
   ],
   "source": [
    "5/2 # true division - returns quotient"
   ]
  },
  {
   "cell_type": "code",
   "execution_count": 18,
   "metadata": {
    "colab": {
     "base_uri": "https://localhost:8080/"
    },
    "id": "3TF5RM-Iwsxl",
    "outputId": "289d0781-2006-41cb-e707-133188ad2502",
    "slideshow": {
     "slide_type": "slide"
    }
   },
   "outputs": [
    {
     "data": {
      "text/plain": [
       "2"
      ]
     },
     "execution_count": 18,
     "metadata": {},
     "output_type": "execute_result"
    }
   ],
   "source": [
    "5//2 #integer division - returns quotient"
   ]
  },
  {
   "cell_type": "code",
   "execution_count": 19,
   "metadata": {
    "colab": {
     "base_uri": "https://localhost:8080/"
    },
    "id": "VGRBDIXtwtst",
    "outputId": "1cd4a7cc-6975-43f7-fbb1-97d362a50a17",
    "slideshow": {
     "slide_type": "slide"
    }
   },
   "outputs": [
    {
     "data": {
      "text/plain": [
       "1"
      ]
     },
     "execution_count": 19,
     "metadata": {},
     "output_type": "execute_result"
    }
   ],
   "source": [
    "5%2 # remainder of division"
   ]
  },
  {
   "cell_type": "code",
   "execution_count": 20,
   "metadata": {
    "colab": {
     "base_uri": "https://localhost:8080/"
    },
    "id": "BDxhasdxD0Rr",
    "outputId": "044028d9-8775-445a-f2e6-4e4a0db282a4",
    "slideshow": {
     "slide_type": "slide"
    }
   },
   "outputs": [
    {
     "name": "stdout",
     "output_type": "stream",
     "text": [
      "1\n"
     ]
    }
   ],
   "source": [
    "a = 5\n",
    "b = 2\n",
    "a%=b # equivalent to a = a%b\n",
    "print(a)"
   ]
  },
  {
   "cell_type": "markdown",
   "metadata": {
    "id": "M0rSik2dw8zL",
    "slideshow": {
     "slide_type": "slide"
    }
   },
   "source": [
    "**Bitwise Operators**\n",
    "* Left shift operator\n",
    "* Right shift operator\n",
    "* Bitwise and\n",
    "* Bitwise or\n",
    "* Bitwise xor\n",
    "* Bitwise not"
   ]
  },
  {
   "cell_type": "code",
   "execution_count": 1,
   "metadata": {
    "colab": {
     "base_uri": "https://localhost:8080/"
    },
    "id": "O050nkYZwvBH",
    "outputId": "3ba5074d-d95c-40f7-e88f-98b58b60f3ef",
    "slideshow": {
     "slide_type": "slide"
    }
   },
   "outputs": [
    {
     "data": {
      "text/plain": [
       "8"
      ]
     },
     "execution_count": 1,
     "metadata": {},
     "output_type": "execute_result"
    }
   ],
   "source": [
    "4<<1 # left shift by one position"
   ]
  },
  {
   "cell_type": "markdown",
   "metadata": {
    "slideshow": {
     "slide_type": "slide"
    }
   },
   "source": [
    "#### Left shift of integer 'n' by 'm' bits is equivalent to multiplying 'n' by 2 power m"
   ]
  },
  {
   "cell_type": "code",
   "execution_count": 127,
   "metadata": {
    "colab": {
     "base_uri": "https://localhost:8080/"
    },
    "id": "g2qTD4g5xSIp",
    "outputId": "3080c9a9-6272-4373-be42-22cdde86bc93",
    "slideshow": {
     "slide_type": "slide"
    }
   },
   "outputs": [
    {
     "data": {
      "text/plain": [
       "2"
      ]
     },
     "execution_count": 127,
     "metadata": {},
     "output_type": "execute_result"
    }
   ],
   "source": [
    "4>>1"
   ]
  },
  {
   "cell_type": "code",
   "execution_count": 21,
   "metadata": {
    "colab": {
     "base_uri": "https://localhost:8080/"
    },
    "id": "2a7TUVj3xTl7",
    "outputId": "0daaaccb-91e0-4436-e52c-3b48f6ec81d5",
    "slideshow": {
     "slide_type": "slide"
    }
   },
   "outputs": [
    {
     "data": {
      "text/plain": [
       "0"
      ]
     },
     "execution_count": 21,
     "metadata": {},
     "output_type": "execute_result"
    }
   ],
   "source": [
    "4&2"
   ]
  },
  {
   "cell_type": "code",
   "execution_count": 129,
   "metadata": {
    "colab": {
     "base_uri": "https://localhost:8080/"
    },
    "id": "7W8IQ5K3xVWg",
    "outputId": "4944e667-69fd-4c48-e12b-1198ad9cbf49",
    "slideshow": {
     "slide_type": "slide"
    }
   },
   "outputs": [
    {
     "data": {
      "text/plain": [
       "6"
      ]
     },
     "execution_count": 129,
     "metadata": {},
     "output_type": "execute_result"
    }
   ],
   "source": [
    "4|2"
   ]
  },
  {
   "cell_type": "code",
   "execution_count": 130,
   "metadata": {
    "colab": {
     "base_uri": "https://localhost:8080/"
    },
    "id": "3jMtI2oWxWvp",
    "outputId": "bb371c7f-d49c-41a3-d6d6-952d68d2e3fc",
    "slideshow": {
     "slide_type": "slide"
    }
   },
   "outputs": [
    {
     "data": {
      "text/plain": [
       "6"
      ]
     },
     "execution_count": 130,
     "metadata": {},
     "output_type": "execute_result"
    }
   ],
   "source": [
    "4^2"
   ]
  },
  {
   "cell_type": "code",
   "execution_count": 131,
   "metadata": {
    "colab": {
     "base_uri": "https://localhost:8080/"
    },
    "id": "6watZDjTxYkA",
    "outputId": "f4fd223c-2b0e-4770-ff70-64d4491749c6",
    "slideshow": {
     "slide_type": "slide"
    }
   },
   "outputs": [
    {
     "name": "stdout",
     "output_type": "stream",
     "text": [
      "-5\n"
     ]
    }
   ],
   "source": [
    "a = 4\n",
    "b = ~a\n",
    "print(b)"
   ]
  },
  {
   "cell_type": "markdown",
   "metadata": {
    "id": "UHefBrGbCPh5",
    "slideshow": {
     "slide_type": "slide"
    }
   },
   "source": [
    "**Comparison Operators**\n",
    "* Checking Equality - '=='\n",
    "* Checking inequality - '!='\n",
    "* Greater than - '>'\n",
    "* Less than - '<'\n",
    "* Greater than or equal to - '>='\n",
    "* Less than or equal to - '<='\n"
   ]
  },
  {
   "cell_type": "code",
   "execution_count": 132,
   "metadata": {
    "colab": {
     "base_uri": "https://localhost:8080/"
    },
    "id": "c9grMEgUxZts",
    "outputId": "468b1daf-aad5-4204-d5f2-6800c6b30f82",
    "slideshow": {
     "slide_type": "slide"
    }
   },
   "outputs": [
    {
     "data": {
      "text/plain": [
       "True"
      ]
     },
     "execution_count": 132,
     "metadata": {},
     "output_type": "execute_result"
    }
   ],
   "source": [
    "2==2"
   ]
  },
  {
   "cell_type": "code",
   "execution_count": 133,
   "metadata": {
    "colab": {
     "base_uri": "https://localhost:8080/"
    },
    "id": "efHnvnUoR6a7",
    "outputId": "d453ba03-7ca8-4bb5-ced4-bd3d4dbf0bb4",
    "slideshow": {
     "slide_type": "slide"
    }
   },
   "outputs": [
    {
     "data": {
      "text/plain": [
       "True"
      ]
     },
     "execution_count": 133,
     "metadata": {},
     "output_type": "execute_result"
    }
   ],
   "source": [
    "2!=3"
   ]
  },
  {
   "cell_type": "code",
   "execution_count": 134,
   "metadata": {
    "colab": {
     "base_uri": "https://localhost:8080/"
    },
    "id": "3plEHkQRR7W9",
    "outputId": "1e0e1e59-1977-4a25-c153-d842f6af6e86",
    "slideshow": {
     "slide_type": "slide"
    }
   },
   "outputs": [
    {
     "data": {
      "text/plain": [
       "False"
      ]
     },
     "execution_count": 134,
     "metadata": {},
     "output_type": "execute_result"
    }
   ],
   "source": [
    "2>3\n"
   ]
  },
  {
   "cell_type": "code",
   "execution_count": 135,
   "metadata": {
    "colab": {
     "base_uri": "https://localhost:8080/"
    },
    "id": "tUhuLY6GR8sA",
    "outputId": "42a26b45-30da-443c-a504-a7033557440a",
    "slideshow": {
     "slide_type": "slide"
    }
   },
   "outputs": [
    {
     "data": {
      "text/plain": [
       "True"
      ]
     },
     "execution_count": 135,
     "metadata": {},
     "output_type": "execute_result"
    }
   ],
   "source": [
    "2>=2"
   ]
  },
  {
   "cell_type": "markdown",
   "metadata": {
    "id": "eksnIWTvwmaN",
    "slideshow": {
     "slide_type": "slide"
    }
   },
   "source": [
    "**Conditional statements**\n",
    "\n",
    "These statements help us to incorporate the selectional component of the algorithm. Python supports conditional statements with if, else and elif statements."
   ]
  },
  {
   "cell_type": "code",
   "execution_count": 22,
   "metadata": {
    "colab": {
     "base_uri": "https://localhost:8080/"
    },
    "id": "fRVLkExSHbT8",
    "outputId": "cd62c981-940f-4eb4-8766-87ac998e35d5",
    "slideshow": {
     "slide_type": "slide"
    }
   },
   "outputs": [
    {
     "name": "stdout",
     "output_type": "stream",
     "text": [
      "75\n",
      "B\n"
     ]
    }
   ],
   "source": [
    "marks = int(input())\n",
    "if marks<0 or marks>100:\n",
    "  print('Invalid')\n",
    "elif marks>=90:\n",
    "  print(\"S\")\n",
    "  print('S grade')\n",
    "elif marks>=80:\n",
    "  print('A')\n",
    "elif marks>=70:\n",
    "  print('B')\n",
    "elif marks>=60:\n",
    "  print('C')\n",
    "elif marks>=50:\n",
    "  print('D')\n",
    "else:\n",
    "  print('Fail')"
   ]
  },
  {
   "cell_type": "markdown",
   "metadata": {
    "id": "JjAM7JwHwpbc",
    "slideshow": {
     "slide_type": "slide"
    }
   },
   "source": [
    "**Iterative statements**\n",
    "\n",
    "Iterative component of algorithms is supported by Python through\n",
    "\n",
    "* For loop\n",
    "* while loop"
   ]
  },
  {
   "cell_type": "markdown",
   "metadata": {
    "id": "-ZHs-CjOIVyP",
    "slideshow": {
     "slide_type": "slide"
    }
   },
   "source": [
    "**For Loop in Python**\n",
    "\n",
    "Works by taking one element from a sequence in each iteration till the last element in the sequence is reached. To repeat a set of statements for a finite number of times in Python we use a sequence generator range.\n",
    "\n",
    "**Range - Sequence Generator**\n",
    "\n",
    "Takes three arguments\n",
    "* Starting value of the sequence, start\n",
    "* Stop value of the sequence, stop\n",
    "* Step value of the sequence, step - Optional parameter - by default step value is 1\n",
    "\n",
    "Output of range is a sequence of values from start to largest possible value less than stop. Successive elements in the generated sequence will have a difference of step"
   ]
  },
  {
   "cell_type": "code",
   "execution_count": 137,
   "metadata": {
    "colab": {
     "base_uri": "https://localhost:8080/"
    },
    "id": "KmHRwlZWKOiJ",
    "outputId": "51648530-d572-4f88-df25-2832aff75eff",
    "slideshow": {
     "slide_type": "slide"
    }
   },
   "outputs": [
    {
     "name": "stdout",
     "output_type": "stream",
     "text": [
      "0 1 2 3 4 5 6 7 8 9 "
     ]
    }
   ],
   "source": [
    "for i in range(0,10):\n",
    "  print(i, end = ' ') "
   ]
  },
  {
   "cell_type": "code",
   "execution_count": 138,
   "metadata": {
    "colab": {
     "base_uri": "https://localhost:8080/"
    },
    "id": "qzr7gGWXKV2z",
    "outputId": "34c499a5-0844-439c-c920-973386c3bc33",
    "slideshow": {
     "slide_type": "slide"
    }
   },
   "outputs": [
    {
     "name": "stdout",
     "output_type": "stream",
     "text": [
      "0 2 4 6 8 "
     ]
    }
   ],
   "source": [
    "for i in range(0,10,2):\n",
    "  print(i, end = ' ')"
   ]
  },
  {
   "cell_type": "markdown",
   "metadata": {
    "id": "H9e_W3RbK0-V",
    "slideshow": {
     "slide_type": "slide"
    }
   },
   "source": [
    "**While Loop**\n",
    "\n",
    "While loop will contain a loop controlling variable which will be :\n",
    "\n",
    "* Initialized before starting the loop\n",
    "* Value change of loop controlling variable within the body of the loop\n",
    "* Terminating condition with loop controlling variable"
   ]
  },
  {
   "cell_type": "code",
   "execution_count": 23,
   "metadata": {
    "colab": {
     "base_uri": "https://localhost:8080/"
    },
    "id": "Q3MbisWgKzzT",
    "outputId": "c84589fb-db0f-4638-c5be-5155874a933e",
    "slideshow": {
     "slide_type": "slide"
    }
   },
   "outputs": [
    {
     "name": "stdout",
     "output_type": "stream",
     "text": [
      "0 1 2 3 4 5 6 7 8 9 "
     ]
    }
   ],
   "source": [
    "# 'i' is the loop controlling variable\n",
    "i = 0 # initialization\n",
    "while i<10: # terminating condition\n",
    "  print(i,end= ' ')\n",
    "  i+=1 # value change of loop controlling variable\n"
   ]
  },
  {
   "cell_type": "markdown",
   "metadata": {
    "id": "ReEz1QdnNDAx",
    "slideshow": {
     "slide_type": "slide"
    }
   },
   "source": [
    "**Break and Continue**\n",
    "\n",
    "These statements are helpful to change the way loop executes for exceptional conditions\n",
    "\n",
    "* Break - Makes control to come out of the loop\n",
    "* Continue - Skips the rest of the statements in the body of the loop and continues loop"
   ]
  },
  {
   "cell_type": "code",
   "execution_count": 24,
   "metadata": {
    "colab": {
     "base_uri": "https://localhost:8080/"
    },
    "id": "TVMNpZVNNB6m",
    "outputId": "7a5cc10f-e46f-44ba-b1b4-857a2dc714ed",
    "slideshow": {
     "slide_type": "slide"
    }
   },
   "outputs": [
    {
     "name": "stdout",
     "output_type": "stream",
     "text": [
      "12\n",
      "15\n",
      "15\n",
      "13\n",
      "-1\n"
     ]
    }
   ],
   "source": [
    "# Accept only numbers that are divisible only by 5 till user enters -1\n",
    "while True:\n",
    "  num = int(input())\n",
    "  if num==-1:\n",
    "    break\n",
    "  if num%5!=0: # 0 is false and all non-zero values are true\n",
    "    continue\n",
    "  print(num)\n"
   ]
  },
  {
   "cell_type": "markdown",
   "metadata": {
    "id": "xtMT9fs_OZr8",
    "slideshow": {
     "slide_type": "slide"
    }
   },
   "source": [
    "**Else for Loops in Python**\n",
    "\n",
    "Unique and a useful feature of Python. Control can come out of loop in two conditions\n",
    "* terminating condition is reached\n",
    "* break is encountered\n",
    "Else part of loop executes when control comes out of loop when terminating condition is reached and didn't break"
   ]
  },
  {
   "cell_type": "code",
   "execution_count": 141,
   "metadata": {
    "colab": {
     "base_uri": "https://localhost:8080/"
    },
    "id": "xh3lqPLrjX-T",
    "outputId": "85bb5eb2-6643-408d-c6fc-5c686100a6a1",
    "slideshow": {
     "slide_type": "slide"
    }
   },
   "outputs": [
    {
     "name": "stdout",
     "output_type": "stream",
     "text": [
      "19\n",
      "Yes\n"
     ]
    }
   ],
   "source": [
    "# Check if a given number is prime\n",
    "from math import sqrt\n",
    "num = int(input())\n",
    "max_factor = int(sqrt(num))\n",
    "for i in range(2,max_factor+1):\n",
    "  if num%i==0:\n",
    "    print('No')\n",
    "    break\n",
    "else:\n",
    "  print('Yes')"
   ]
  },
  {
   "cell_type": "markdown",
   "metadata": {
    "id": "tPP0lHGgSPd8",
    "slideshow": {
     "slide_type": "slide"
    }
   },
   "source": [
    "**Strings**\n",
    "\n",
    "Sequences of characters. Operators supported for strings. Strings are immutable structures\n"
   ]
  },
  {
   "cell_type": "code",
   "execution_count": 144,
   "metadata": {
    "id": "sIuocxQQr00Z",
    "slideshow": {
     "slide_type": "slide"
    }
   },
   "outputs": [],
   "source": [
    "s = 'apple'"
   ]
  },
  {
   "cell_type": "code",
   "execution_count": 8,
   "metadata": {
    "colab": {
     "base_uri": "https://localhost:8080/",
     "height": 171
    },
    "id": "UscobmaCr4IO",
    "outputId": "01ac8bd1-5d1f-4d9e-b479-8aa897586e56",
    "scrolled": true,
    "slideshow": {
     "slide_type": "slide"
    }
   },
   "outputs": [
    {
     "ename": "NameError",
     "evalue": "name 's' is not defined",
     "output_type": "error",
     "traceback": [
      "\u001b[0;31m---------------------------------------------------------------------------\u001b[0m",
      "\u001b[0;31mNameError\u001b[0m                                 Traceback (most recent call last)",
      "\u001b[0;32m<ipython-input-8-ebca4fe81b69>\u001b[0m in \u001b[0;36m<module>\u001b[0;34m\u001b[0m\n\u001b[0;32m----> 1\u001b[0;31m \u001b[0ms\u001b[0m\u001b[0;34m[\u001b[0m\u001b[0;36m0\u001b[0m\u001b[0;34m]\u001b[0m \u001b[0;34m=\u001b[0m \u001b[0;34m'b'\u001b[0m \u001b[0;31m# immutable so one of the element in the sequence cannot be changed\u001b[0m\u001b[0;34m\u001b[0m\u001b[0;34m\u001b[0m\u001b[0m\n\u001b[0m",
      "\u001b[0;31mNameError\u001b[0m: name 's' is not defined"
     ]
    }
   ],
   "source": [
    "s[0] = 'b' # immutable so one of the element in the sequence cannot be changed"
   ]
  },
  {
   "cell_type": "code",
   "execution_count": 9,
   "metadata": {
    "id": "x1b5maxmsCJn",
    "slideshow": {
     "slide_type": "slide"
    }
   },
   "outputs": [],
   "source": [
    "s='ball'"
   ]
  },
  {
   "cell_type": "markdown",
   "metadata": {
    "id": "SxeqBa_qlzbD",
    "slideshow": {
     "slide_type": "slide"
    }
   },
   "source": [
    "**String Operators**\n",
    "<table>\n",
    "<tr>\n",
    "<td>\n",
    "Operators\n",
    "</td>\n",
    "<td>\n",
    "Operands\n",
    "</td>\n",
    "<td>\n",
    "Resultant\n",
    "</td>\n",
    "</tr>\n",
    "<tr>\n",
    "<td>\n",
    "+\n",
    "</td>\n",
    "<td>\n",
    "two strings\n",
    "</td>\n",
    "<td>\n",
    "string\n",
    "</td>\n",
    "</tr>\n",
    "<tr>\n",
    "<td>\n",
    "*\n",
    "</td>\n",
    "<td>\n",
    "int, string\n",
    "</td>\n",
    "<td>\n",
    "string\n",
    "</td>\n",
    "</tr>\n",
    "</tr>\n",
    "<tr>\n",
    "<td>\n",
    "in\n",
    "</td>\n",
    "<td>\n",
    "two strings\n",
    "</td>\n",
    "<td>\n",
    "Boolean\n",
    "</td>\n",
    "</tr>\n",
    "<tr>\n",
    "<td>\n",
    "[] \n",
    "</td>\n",
    "<td>\n",
    "int, string\n",
    "</td>\n",
    "<td>\n",
    "string with one character\n",
    "</td>\n",
    "</tr>\n",
    "<tr>\n",
    "<td>\n",
    "[] and :\n",
    "</td>\n",
    "<td>\n",
    "integers, string\n",
    "</td>\n",
    "<td>\n",
    "string with one or more characters\n",
    "</td>\n",
    "</tr>\n",
    "\n",
    "</table>"
   ]
  },
  {
   "cell_type": "markdown",
   "metadata": {
    "id": "v3yL6l_-Uoz_",
    "slideshow": {
     "slide_type": "slide"
    }
   },
   "source": [
    "**Indexing in Python**\n",
    "\n",
    "Two types of indexing is done for elements in a sequence\n",
    "* Forward indexing - Start from first element and go till last, 0 to n-1 where 'n' is the number of elements\n",
    "* Reverse or backward indexing - Start from the last element and go till first element in reverse direction, -1 to -n"
   ]
  },
  {
   "cell_type": "code",
   "execution_count": 147,
   "metadata": {
    "colab": {
     "base_uri": "https://localhost:8080/",
     "height": 418
    },
    "id": "xecTDAVxV6zY",
    "outputId": "46f29030-fe3e-4910-8d70-976652a66667",
    "slideshow": {
     "slide_type": "slide"
    }
   },
   "outputs": [
    {
     "data": {
      "image/png": "[encoded data removed]",
      "text/plain": [
       "<PIL.Image.Image image mode=RGBA size=863x401 at 0x7F51C4271590>"
      ]
     },
     "metadata": {},
     "output_type": "display_data"
    }
   ],
   "source": [
    "from google.colab.patches import cv2_imshow\n",
    "import cv2\n",
    "img = cv2.imread('indexing.png', cv2.IMREAD_UNCHANGED)\n",
    "cv2_imshow(img)"
   ]
  },
  {
   "cell_type": "code",
   "execution_count": 26,
   "metadata": {
    "colab": {
     "base_uri": "https://localhost:8080/"
    },
    "id": "n_4dzgxrR_cS",
    "outputId": "d28aaaad-de99-4c29-b898-32b4361df106",
    "slideshow": {
     "slide_type": "slide"
    }
   },
   "outputs": [
    {
     "name": "stdout",
     "output_type": "stream",
     "text": [
      "treeapple\n"
     ]
    }
   ],
   "source": [
    "S1 = 'apple'\n",
    "S2 = 'tree'\n",
    "print(S2+S1)"
   ]
  },
  {
   "cell_type": "code",
   "execution_count": 27,
   "metadata": {
    "colab": {
     "base_uri": "https://localhost:8080/"
    },
    "id": "U3EKcA74UeVQ",
    "outputId": "1872a301-5e83-47e1-852b-1843ea0e2373",
    "slideshow": {
     "slide_type": "slide"
    }
   },
   "outputs": [
    {
     "name": "stdout",
     "output_type": "stream",
     "text": [
      "appleappleappleapple\n"
     ]
    }
   ],
   "source": [
    "print(4*S1)"
   ]
  },
  {
   "cell_type": "code",
   "execution_count": 12,
   "metadata": {
    "colab": {
     "base_uri": "https://localhost:8080/"
    },
    "id": "SHqTcRdSUgST",
    "outputId": "38db56da-cfcb-406b-8c59-2e96c1d833cd",
    "slideshow": {
     "slide_type": "slide"
    }
   },
   "outputs": [
    {
     "name": "stdout",
     "output_type": "stream",
     "text": [
      "l\n"
     ]
    }
   ],
   "source": [
    "print(S1[3])"
   ]
  },
  {
   "cell_type": "code",
   "execution_count": 29,
   "metadata": {
    "colab": {
     "base_uri": "https://localhost:8080/"
    },
    "id": "gfpswE2iUiNO",
    "outputId": "e39979d4-e451-484c-fb74-58a12b18b950",
    "slideshow": {
     "slide_type": "slide"
    }
   },
   "outputs": [
    {
     "name": "stdout",
     "output_type": "stream",
     "text": [
      "pl\n"
     ]
    }
   ],
   "source": [
    "S1 = 'apple'\n",
    "print(S1[1:4:2])"
   ]
  },
  {
   "cell_type": "code",
   "execution_count": 30,
   "metadata": {
    "colab": {
     "base_uri": "https://localhost:8080/"
    },
    "id": "W8TktVeHWbrr",
    "outputId": "79cd7cbe-3dc1-4445-a0aa-6a4fe19a7477",
    "slideshow": {
     "slide_type": "slide"
    }
   },
   "outputs": [
    {
     "name": "stdout",
     "output_type": "stream",
     "text": [
      "elppa\n"
     ]
    }
   ],
   "source": [
    "print(S1[::-1])"
   ]
  },
  {
   "cell_type": "code",
   "execution_count": 33,
   "metadata": {
    "colab": {
     "base_uri": "https://localhost:8080/"
    },
    "id": "737xSvCKUmGe",
    "outputId": "3c524f4e-8161-4ff7-a176-e9450e235d68",
    "slideshow": {
     "slide_type": "slide"
    }
   },
   "outputs": [
    {
     "name": "stdout",
     "output_type": "stream",
     "text": [
      "False\n"
     ]
    }
   ],
   "source": [
    "print('pa' in 'apple')"
   ]
  },
  {
   "cell_type": "markdown",
   "metadata": {
    "id": "4dBvqCypXwKK",
    "slideshow": {
     "slide_type": "slide"
    }
   },
   "source": [
    "**String Functions**\n",
    "<table>\n",
    "<tr>\n",
    "<td>\n",
    "<b>Function Name</b>\n",
    "</td>\n",
    "<td>\n",
    "<b>Function type</b>\n",
    "</td>\n",
    "<td>\n",
    "<b>Arguments</b>\n",
    "</td>\n",
    "<td>\n",
    "<b>Return Value</b>\n",
    "</td>\n",
    "</tr>\n",
    "<tr>\n",
    "<td>\n",
    "len\n",
    "</td>\n",
    "<td>\n",
    "global\n",
    "</td>\n",
    "<td>\n",
    "String whose length is to be found\n",
    "</td>\n",
    "<td>\n",
    "Number of characters\n",
    "</td>\n",
    "</tr>\n",
    "<tr>\n",
    "<td>\n",
    "Sorted\n",
    "</td>\n",
    "<td>\n",
    "global\n",
    "</td>\n",
    "<td>\n",
    "String whose characters are to be sorted\n",
    "</td>\n",
    "<td>\n",
    "List with characters in ascending/descending order\n",
    "</td>\n",
    "</tr>\n",
    "<tr>\n",
    "<td>\n",
    "count\n",
    "</td>\n",
    "<td>\n",
    "string\n",
    "</td>\n",
    "<td>\n",
    "substring that has to be counted\n",
    "</td>\n",
    "<td>\n",
    "number of occurrences of substring in string\n",
    "</td>\n",
    "</tr>\n",
    "<tr>\n",
    "<td>\n",
    "find\n",
    "</td>\n",
    "<td>\n",
    "string\n",
    "</td>\n",
    "<td>\n",
    "substring that has to be searched\n",
    "</td>\n",
    "<td>\n",
    "return the position of occurrence in string and -1 if not present\n",
    "</td>\n",
    "</tr>\n",
    "<tr>\n",
    "<td>\n",
    "strip\n",
    "</td>\n",
    "<td>\n",
    "string\n",
    "</td>\n",
    "<td>\n",
    "Nil\n",
    "</td>\n",
    "<td>\n",
    "String without leading and trailing spaces\n",
    "</td>\n",
    "\n",
    "</tr>\n",
    "<tr>\n",
    "<td>\n",
    "beginswith\n",
    "</td>\n",
    "<td>\n",
    "string\n",
    "</td>\n",
    "<td>\n",
    "substring that has to be checked\n",
    "</td>\n",
    "<td>\n",
    "boolean value indicating if a string begins with given substring\n",
    "</td>\n",
    "</tr>\n",
    "<tr>\n",
    "<td>\n",
    "isalpha\n",
    "</td>\n",
    "<td>\n",
    "string\n",
    "</td>\n",
    "<td>\n",
    "Nil\n",
    "</td>\n",
    "<td>\n",
    "boolean value indicating if the string contain all characters as English alphabet only\n",
    "</td>\n",
    "</tr>\n",
    "<tr>\n",
    "<td>\n",
    "min\n",
    "</td>\n",
    "<td>\n",
    "global\n",
    "</td>\n",
    "<td>\n",
    "Nil\n",
    "</td>\n",
    "<td>\n",
    "smallest character \n",
    "</td>\n",
    "</tr>\n",
    "<tr>\n",
    "<td>\n",
    "lower\n",
    "</td>\n",
    "<td>\n",
    "string\n",
    "</td>\n",
    "<td>\n",
    "Nil\n",
    "</td>\n",
    "<td>\n",
    "return a string with all letters in lower case\n",
    "</td>\n",
    "\n",
    "</tr>\n",
    "</tr>\n",
    "<tr>\n",
    "<td>\n",
    "isupper\n",
    "</td>\n",
    "<td>\n",
    "string\n",
    "</td>\n",
    "<td>\n",
    "Nil\n",
    "</td>\n",
    "<td>\n",
    "Return boolean value indicating if all characters are cpaital\n",
    "</td>\n",
    "\n",
    "</tr>\n",
    "</tr>\n",
    "\n",
    "</table>"
   ]
  },
  {
   "cell_type": "code",
   "execution_count": 18,
   "metadata": {
    "colab": {
     "base_uri": "https://localhost:8080/"
    },
    "id": "QASXqYB7XHdb",
    "outputId": "e2fa6543-7f6b-415c-f5bf-eebfd4a47894",
    "slideshow": {
     "slide_type": "slide"
    }
   },
   "outputs": [
    {
     "data": {
      "text/plain": [
       "6"
      ]
     },
     "execution_count": 18,
     "metadata": {},
     "output_type": "execute_result"
    }
   ],
   "source": [
    "s1 = 'apples'\n",
    "len(s1)"
   ]
  },
  {
   "cell_type": "code",
   "execution_count": 19,
   "metadata": {
    "colab": {
     "base_uri": "https://localhost:8080/"
    },
    "id": "XxQ_ci85cjut",
    "outputId": "9ac90e49-5d99-41fd-f068-664f7321ffc2",
    "slideshow": {
     "slide_type": "slide"
    }
   },
   "outputs": [
    {
     "data": {
      "text/plain": [
       "['s', 'p', 'p', 'l', 'e', 'a']"
      ]
     },
     "execution_count": 19,
     "metadata": {},
     "output_type": "execute_result"
    }
   ],
   "source": [
    "sorted(s1,reverse=True)"
   ]
  },
  {
   "cell_type": "code",
   "execution_count": 37,
   "metadata": {
    "colab": {
     "base_uri": "https://localhost:8080/"
    },
    "id": "97mgoBN3cmEw",
    "outputId": "ea137e5a-6c05-4b15-c146-2f4ad866740c",
    "slideshow": {
     "slide_type": "slide"
    }
   },
   "outputs": [
    {
     "data": {
      "text/plain": [
       "0"
      ]
     },
     "execution_count": 37,
     "metadata": {},
     "output_type": "execute_result"
    }
   ],
   "source": [
    "s1='apple'\n",
    "s1.count('pa')"
   ]
  },
  {
   "cell_type": "code",
   "execution_count": 38,
   "metadata": {
    "colab": {
     "base_uri": "https://localhost:8080/"
    },
    "id": "X-ZVPxAWkqyt",
    "outputId": "cf0b222a-ee89-4ebe-fe61-412f62b31afb",
    "slideshow": {
     "slide_type": "slide"
    }
   },
   "outputs": [
    {
     "name": "stdout",
     "output_type": "stream",
     "text": [
      "ball\n",
      "0 b\n",
      "1 a\n",
      "2 l\n",
      "3 l\n"
     ]
    }
   ],
   "source": [
    "string = input()\n",
    "for index,val in enumerate(string):\n",
    "  print(index,val)"
   ]
  },
  {
   "cell_type": "markdown",
   "metadata": {
    "id": "vVwz8KqCcPFb",
    "slideshow": {
     "slide_type": "slide"
    }
   },
   "source": [
    "**Data Structures as Data Types**\n",
    "\n",
    "Various data structures helpful for problem solving are inbuilt in Python and they may be used as a datatype in Python. The following structures are available:\n",
    "\n",
    "* Lists - Mutuable - Enclosed in square brackets\n",
    "* Tuples - Immutable - Enclosed in parenthesis\n",
    "* Dictionaries - Mutable - Enclosed in curly braces - each element is a key value pair\n",
    "* Sets - Mutable - Enclosed in curly braces\n"
   ]
  },
  {
   "cell_type": "markdown",
   "metadata": {
    "id": "yZqp-OhTiAOz",
    "slideshow": {
     "slide_type": "slide"
    }
   },
   "source": [
    "**Lists**\n",
    "\n",
    "* Collection of heterogenous type of elements\n",
    "* Mutable structure\n",
    "* Nested lists represent higher dimensional data"
   ]
  },
  {
   "cell_type": "markdown",
   "metadata": {
    "id": "t5R4dPIZilVS",
    "slideshow": {
     "slide_type": "slide"
    }
   },
   "source": [
    "**Operators for List**\n",
    "\n",
    "All operators of strings are available for lists also\n",
    "\n",
    "<table>\n",
    "<tr>\n",
    "<td>\n",
    "Operators\n",
    "</td>\n",
    "<td>\n",
    "Operands\n",
    "</td>\n",
    "<td>\n",
    "Resultant\n",
    "</td>\n",
    "</tr>\n",
    "<tr>\n",
    "<td>\n",
    "+\n",
    "</td>\n",
    "<td>\n",
    "two lists\n",
    "</td>\n",
    "<td>\n",
    "list\n",
    "</td>\n",
    "</tr>\n",
    "<tr>\n",
    "<td>\n",
    "*\n",
    "</td>\n",
    "<td>\n",
    "int, list\n",
    "</td>\n",
    "<td>\n",
    "list\n",
    "</td>\n",
    "</tr>\n",
    "</tr>\n",
    "<tr>\n",
    "<td>\n",
    "in\n",
    "</td>\n",
    "<td>\n",
    "element and list\n",
    "</td>\n",
    "<td>\n",
    "Boolean\n",
    "</td>\n",
    "</tr>\n",
    "<tr>\n",
    "<td>\n",
    "[] \n",
    "</td>\n",
    "<td>\n",
    "int, list\n",
    "</td>\n",
    "<td>\n",
    "element at the given position\n",
    "</td>\n",
    "</tr>\n",
    "<tr>\n",
    "<td>\n",
    "[] and :\n",
    "</td>\n",
    "<td>\n",
    "integers, list\n",
    "</td>\n",
    "<td>\n",
    "lsit with one or more elements\n",
    "</td>\n",
    "</tr>\n",
    "\n",
    "</table>"
   ]
  },
  {
   "cell_type": "markdown",
   "metadata": {
    "id": "LUmOUObUj3r7",
    "slideshow": {
     "slide_type": "slide"
    }
   },
   "source": [
    "**List Functions**\n",
    "<table>\n",
    "<tr>\n",
    "<td>\n",
    "<b>Function Name</b>\n",
    "</td>\n",
    "<td>\n",
    "<b>Function type</b>\n",
    "</td>\n",
    "<td>\n",
    "<b>Arguments</b>\n",
    "</td>\n",
    "<td>\n",
    "<b>Return Value</b>\n",
    "</td>\n",
    "</tr>\n",
    "<tr>\n",
    "<td>\n",
    "append\n",
    "</td>\n",
    "<td>\n",
    "list\n",
    "</td>\n",
    "<td>\n",
    "element to be appended\n",
    "</td>\n",
    "<td>\n",
    "list with element appended\n",
    "</td>\n",
    "</tr>\n",
    "<tr>\n",
    "<td>\n",
    "insert\n",
    "</td>\n",
    "<td>\n",
    "list\n",
    "</td>\n",
    "<td>\n",
    "position and element to be inserted\n",
    "</td>\n",
    "<td>\n",
    "list with element inserted\n",
    "</td>\n",
    "</tr>\n",
    "<tr>\n",
    "<td>\n",
    "len\n",
    "</td>\n",
    "<td>\n",
    "global\n",
    "</td>\n",
    "<td>\n",
    "list whose length is to be found\n",
    "</td>\n",
    "<td>\n",
    "Number of elements\n",
    "</td>\n",
    "</tr>\n",
    "<tr>\n",
    "<td>\n",
    "Sorted\n",
    "</td>\n",
    "<td>\n",
    "global\n",
    "</td>\n",
    "<td>\n",
    "List whose elements are to be sorted\n",
    "</td>\n",
    "<td>\n",
    "List with elements in ascending/descending order\n",
    "</td>\n",
    "</tr>\n",
    "<tr>\n",
    "<td>\n",
    "count\n",
    "</td>\n",
    "<td>\n",
    "list\n",
    "</td>\n",
    "<td>\n",
    "element that has to be counted\n",
    "</td>\n",
    "<td>\n",
    "number of occurrences of element in list\n",
    "</td>\n",
    "</tr>\n",
    "<tr>\n",
    "<td>\n",
    "index\n",
    "</td>\n",
    "<td>\n",
    "list\n",
    "</td>\n",
    "<td>\n",
    "element that has to be searched\n",
    "</td>\n",
    "<td>\n",
    "return position of occurrence and -1 if not present\n",
    "</td>\n",
    "</tr>\n",
    "</table>"
   ]
  },
  {
   "cell_type": "markdown",
   "metadata": {
    "slideshow": {
     "slide_type": "subslide"
    }
   },
   "source": [
    "<table><tr>\n",
    "<td>\n",
    "sort\n",
    "</td>\n",
    "<td>\n",
    "list\n",
    "</td>\n",
    "<td>\n",
    "Nil\n",
    "</td>\n",
    "<td>\n",
    "Change the list with elements in ascending or descending order\n",
    "</td>\n",
    "\n",
    "</tr>\n",
    "<tr>\n",
    "<td>\n",
    "del\n",
    "</td>\n",
    "<td>\n",
    "global\n",
    "</td>\n",
    "<td>\n",
    "reference of the element in the list to be deleted\n",
    "</td>\n",
    "<td>\n",
    "make implicit change in list by removing element\n",
    "</td>\n",
    "</tr>\n",
    "<tr>\n",
    "<td>\n",
    "map\n",
    "</td>\n",
    "<td>\n",
    "global\n",
    "</td>\n",
    "<td>\n",
    "takes function name and list\n",
    "</td>\n",
    "<td>\n",
    "list with elements after applying function\n",
    "</td>\n",
    "</tr>\n",
    "<tr>\n",
    "<td>\n",
    "min\n",
    "</td>\n",
    "<td>\n",
    "global\n",
    "</td>\n",
    "<td>\n",
    "Nil\n",
    "</td>\n",
    "<td>\n",
    "smallest element \n",
    "</td>\n",
    "</tr>\n",
    "<tr>\n",
    "<td>\n",
    "extend\n",
    "</td>\n",
    "<td>\n",
    "list\n",
    "</td>\n",
    "<td>\n",
    "list to be added\n",
    "</td>\n",
    "<td>\n",
    "return a list with elements added\n",
    "</td>\n",
    "\n",
    "</tr>\n",
    "</tr>\n",
    "<tr>\n",
    "<td>\n",
    "pop\n",
    "</td>\n",
    "<td>\n",
    "list\n",
    "</td>\n",
    "<td>\n",
    "Nil\n",
    "</td>\n",
    "<td>\n",
    "Delete last element from list and returns it\n",
    "</td>\n",
    "\n",
    "</tr>\n",
    "\n",
    "<tr>\n",
    "<td>\n",
    "reversed\n",
    "</td>\n",
    "<td>\n",
    "global\n",
    "</td>\n",
    "<td>\n",
    "list whose elements has to be reversed\n",
    "</td>\n",
    "<td>\n",
    "Sequence with elements in reversed order, Shall be type casted to list\n",
    "</td>\n",
    "\n",
    "</tr>\n",
    "<tr>\n",
    "<td>\n",
    "reverse\n",
    "</td>\n",
    "<td>\n",
    "list\n",
    "</td>\n",
    "<td>\n",
    "Nil\n",
    "</td>\n",
    "<td>\n",
    "list with elements reversed\n",
    "</td>\n",
    "\n",
    "</tr>\n",
    "<tr>\n",
    "<td>\n",
    "sum\n",
    "</td>\n",
    "<td>\n",
    "global\n",
    "</td>\n",
    "<td>\n",
    "list\n",
    "</td>\n",
    "<td>\n",
    "sum of elements in list\n",
    "</td>\n",
    "\n",
    "</tr>\n",
    "\n",
    "</table>"
   ]
  },
  {
   "cell_type": "code",
   "execution_count": 26,
   "metadata": {
    "id": "069QRsEaj3Md",
    "slideshow": {
     "slide_type": "slide"
    }
   },
   "outputs": [],
   "source": [
    "l = [10, 20, 30]"
   ]
  },
  {
   "cell_type": "code",
   "execution_count": 27,
   "metadata": {
    "colab": {
     "base_uri": "https://localhost:8080/"
    },
    "id": "66FIXouic1eS",
    "outputId": "a359b7e3-80aa-47b6-cdf6-bfc88d7364ef",
    "slideshow": {
     "slide_type": "slide"
    }
   },
   "outputs": [
    {
     "data": {
      "text/plain": [
       "[10, 20, 30, 40]"
      ]
     },
     "execution_count": 27,
     "metadata": {},
     "output_type": "execute_result"
    }
   ],
   "source": [
    "l.append(40)\n",
    "l"
   ]
  },
  {
   "cell_type": "code",
   "execution_count": 164,
   "metadata": {
    "colab": {
     "base_uri": "https://localhost:8080/"
    },
    "id": "PpAlvODzukV0",
    "outputId": "5ad4a187-8bdb-46fc-a675-c938cbd9e0ea",
    "slideshow": {
     "slide_type": "slide"
    }
   },
   "outputs": [
    {
     "data": {
      "text/plain": [
       "[10, 20, 15, 30, 40]"
      ]
     },
     "execution_count": 164,
     "metadata": {},
     "output_type": "execute_result"
    }
   ],
   "source": [
    "l.insert(2,15)\n",
    "l"
   ]
  },
  {
   "cell_type": "code",
   "execution_count": 165,
   "metadata": {
    "colab": {
     "base_uri": "https://localhost:8080/"
    },
    "id": "4de_r3OPuu55",
    "outputId": "85d06751-d388-4f0e-e1a5-cf4fe5adedcf",
    "slideshow": {
     "slide_type": "slide"
    }
   },
   "outputs": [
    {
     "data": {
      "text/plain": [
       "5"
      ]
     },
     "execution_count": 165,
     "metadata": {},
     "output_type": "execute_result"
    }
   ],
   "source": [
    "len(l)"
   ]
  },
  {
   "cell_type": "code",
   "execution_count": 29,
   "metadata": {
    "colab": {
     "base_uri": "https://localhost:8080/"
    },
    "id": "lMlzvqxnuxwC",
    "outputId": "ea481f32-16dd-4fe4-fa6f-8268696ce93f",
    "slideshow": {
     "slide_type": "slide"
    }
   },
   "outputs": [
    {
     "name": "stdout",
     "output_type": "stream",
     "text": [
      "[40, 30, 20, 10]\n",
      "[10, 20, 30, 40]\n"
     ]
    }
   ],
   "source": [
    "print(sorted(l,reverse=True))\n",
    "print(l)"
   ]
  },
  {
   "cell_type": "code",
   "execution_count": 31,
   "metadata": {
    "colab": {
     "base_uri": "https://localhost:8080/"
    },
    "id": "fNs6mIMIu2am",
    "outputId": "44377e0d-abb7-4921-d5d5-b558f776bb65",
    "slideshow": {
     "slide_type": "slide"
    }
   },
   "outputs": [
    {
     "name": "stdout",
     "output_type": "stream",
     "text": [
      "None\n",
      "[40, 30, 20, 10]\n"
     ]
    }
   ],
   "source": [
    "print(l.sort(reverse=True))\n",
    "print(l)"
   ]
  },
  {
   "cell_type": "code",
   "execution_count": 32,
   "metadata": {
    "colab": {
     "base_uri": "https://localhost:8080/"
    },
    "id": "JZbC8mRWu8Fg",
    "outputId": "275dfa69-0690-4626-e6c7-06dee2f35151",
    "slideshow": {
     "slide_type": "slide"
    }
   },
   "outputs": [
    {
     "data": {
      "text/plain": [
       "[40, 30, 10]"
      ]
     },
     "execution_count": 32,
     "metadata": {},
     "output_type": "execute_result"
    }
   ],
   "source": [
    "del(l[2])\n",
    "l"
   ]
  },
  {
   "cell_type": "code",
   "execution_count": 169,
   "metadata": {
    "colab": {
     "base_uri": "https://localhost:8080/"
    },
    "id": "HTX5imQPvIE9",
    "outputId": "e7344362-a96b-4385-e8b3-0c5109fc550b",
    "slideshow": {
     "slide_type": "slide"
    }
   },
   "outputs": [
    {
     "data": {
      "text/plain": [
       "[3.1622776601683795, 3.872983346207417, 5.477225575051661, 6.324555320336759]"
      ]
     },
     "execution_count": 169,
     "metadata": {},
     "output_type": "execute_result"
    }
   ],
   "source": [
    "from math import sqrt \n",
    "list(map(sqrt,l))"
   ]
  },
  {
   "cell_type": "code",
   "execution_count": 170,
   "metadata": {
    "colab": {
     "base_uri": "https://localhost:8080/"
    },
    "id": "O86TXLwivY1c",
    "outputId": "a3eceb73-7f8a-4d5e-86e8-8bf1f69aa7e9",
    "slideshow": {
     "slide_type": "slide"
    }
   },
   "outputs": [
    {
     "data": {
      "text/plain": [
       "10"
      ]
     },
     "execution_count": 170,
     "metadata": {},
     "output_type": "execute_result"
    }
   ],
   "source": [
    "min(l)"
   ]
  },
  {
   "cell_type": "code",
   "execution_count": 171,
   "metadata": {
    "colab": {
     "base_uri": "https://localhost:8080/"
    },
    "id": "lG9xDwRwvkQn",
    "outputId": "fb4a7ee7-bd72-4ca3-f931-5419d5d7a0c8",
    "slideshow": {
     "slide_type": "slide"
    }
   },
   "outputs": [
    {
     "data": {
      "text/plain": [
       "[10, 15, 30, 40, 50, 60]"
      ]
     },
     "execution_count": 171,
     "metadata": {},
     "output_type": "execute_result"
    }
   ],
   "source": [
    "l.extend([50,60])\n",
    "l"
   ]
  },
  {
   "cell_type": "code",
   "execution_count": 172,
   "metadata": {
    "colab": {
     "base_uri": "https://localhost:8080/"
    },
    "id": "M4GbcRi8vrkl",
    "outputId": "992169ad-a6e5-44ac-f5f0-854596f579ba",
    "slideshow": {
     "slide_type": "slide"
    }
   },
   "outputs": [
    {
     "data": {
      "text/plain": [
       "60"
      ]
     },
     "execution_count": 172,
     "metadata": {},
     "output_type": "execute_result"
    }
   ],
   "source": [
    "l.pop()"
   ]
  },
  {
   "cell_type": "code",
   "execution_count": 173,
   "metadata": {
    "colab": {
     "base_uri": "https://localhost:8080/"
    },
    "id": "WbvDOk5xv3Hu",
    "outputId": "476d1c5f-19bc-4663-97d1-90aa3f5a83ba",
    "slideshow": {
     "slide_type": "slide"
    }
   },
   "outputs": [
    {
     "data": {
      "text/plain": [
       "[50, 40, 30, 15, 10]"
      ]
     },
     "execution_count": 173,
     "metadata": {},
     "output_type": "execute_result"
    }
   ],
   "source": [
    "l.reverse()\n",
    "l"
   ]
  },
  {
   "cell_type": "code",
   "execution_count": 174,
   "metadata": {
    "colab": {
     "base_uri": "https://localhost:8080/"
    },
    "id": "IShQHzGLv7ZA",
    "outputId": "22b9d910-02a3-4e65-d867-0027ca78bd77",
    "slideshow": {
     "slide_type": "slide"
    }
   },
   "outputs": [
    {
     "data": {
      "text/plain": [
       "[10, 15, 30, 40, 50]"
      ]
     },
     "execution_count": 174,
     "metadata": {},
     "output_type": "execute_result"
    }
   ],
   "source": [
    "list(reversed(l))"
   ]
  },
  {
   "cell_type": "markdown",
   "metadata": {
    "id": "OAG07q5kxSi0",
    "slideshow": {
     "slide_type": "slide"
    }
   },
   "source": [
    "**List Comprehensions**\n",
    "\n",
    "Short form for creating new lists from existing lists"
   ]
  },
  {
   "cell_type": "code",
   "execution_count": 175,
   "metadata": {
    "colab": {
     "base_uri": "https://localhost:8080/"
    },
    "id": "EgShZOFBxgJv",
    "outputId": "40e2a1c4-8678-47df-a316-6f493eeb5946",
    "slideshow": {
     "slide_type": "slide"
    }
   },
   "outputs": [
    {
     "data": {
      "text/plain": [
       "[1, 4, 9, 25]"
      ]
     },
     "execution_count": 175,
     "metadata": {},
     "output_type": "execute_result"
    }
   ],
   "source": [
    "l = [1,2,3,5]\n",
    "l1 = [x**2 for x in l]\n",
    "l1"
   ]
  },
  {
   "cell_type": "code",
   "execution_count": 176,
   "metadata": {
    "colab": {
     "base_uri": "https://localhost:8080/"
    },
    "id": "u4Bm5Kl8xn8C",
    "outputId": "77180ced-f80c-4faa-9383-07258acbd3e1",
    "slideshow": {
     "slide_type": "slide"
    }
   },
   "outputs": [
    {
     "data": {
      "text/plain": [
       "[3, 6, 8, 10]"
      ]
     },
     "execution_count": 176,
     "metadata": {},
     "output_type": "execute_result"
    }
   ],
   "source": [
    "l1 = [1,2,3,4]\n",
    "l2 = [2,4,5,6]\n",
    "l3 = [x+y for x,y in zip(l1,l2)]\n",
    "l3"
   ]
  },
  {
   "cell_type": "markdown",
   "metadata": {
    "id": "5tsYO2J4soV0",
    "slideshow": {
     "slide_type": "slide"
    }
   },
   "source": [
    "**Tuples**\n",
    "\n",
    "Immutable sequence with heterogenous (both mutable and immutable Python objects) elements\n",
    "\n",
    "* enclosed in a pair of parenthesis\n",
    "\n"
   ]
  },
  {
   "cell_type": "code",
   "execution_count": 177,
   "metadata": {
    "id": "yToWGeVes-FE",
    "slideshow": {
     "slide_type": "slide"
    }
   },
   "outputs": [],
   "source": [
    "# empty tuple\n",
    "t = ()"
   ]
  },
  {
   "cell_type": "code",
   "execution_count": 40,
   "metadata": {
    "id": "mpYVpes7tCbB",
    "slideshow": {
     "slide_type": "slide"
    }
   },
   "outputs": [
    {
     "data": {
      "text/plain": [
       "tuple"
      ]
     },
     "execution_count": 40,
     "metadata": {},
     "output_type": "execute_result"
    }
   ],
   "source": [
    "# tuple with single element - comma at the end is mandatory to differentiate from a mathematical expression\n",
    "t = (1,)\n",
    "type(t)"
   ]
  },
  {
   "cell_type": "code",
   "execution_count": 35,
   "metadata": {
    "colab": {
     "base_uri": "https://localhost:8080/"
    },
    "id": "hAR2-QZ4tQoa",
    "outputId": "9ad40e58-4245-4c0a-c2c2-e7ae3fb53b56",
    "slideshow": {
     "slide_type": "slide"
    }
   },
   "outputs": [
    {
     "data": {
      "text/plain": [
       "tuple"
      ]
     },
     "execution_count": 35,
     "metadata": {},
     "output_type": "execute_result"
    }
   ],
   "source": [
    "# Colleection of elements not separated by any braces and separated by comma is also treated as a tuple\n",
    "t = 2,3,4 \n",
    "type(t)"
   ]
  },
  {
   "cell_type": "code",
   "execution_count": 180,
   "metadata": {
    "colab": {
     "base_uri": "https://localhost:8080/"
    },
    "id": "0Qh6HZl4trKP",
    "outputId": "aab000af-7706-4efa-eb2b-65c4e27834b6",
    "slideshow": {
     "slide_type": "slide"
    }
   },
   "outputs": [
    {
     "data": {
      "text/plain": [
       "(1, 2, 3)"
      ]
     },
     "execution_count": 180,
     "metadata": {},
     "output_type": "execute_result"
    }
   ],
   "source": [
    "#concatenation\n",
    "t3 = (1,2)+(3,)\n",
    "t3"
   ]
  },
  {
   "cell_type": "code",
   "execution_count": 181,
   "metadata": {
    "colab": {
     "base_uri": "https://localhost:8080/"
    },
    "id": "ks05qLwgtxKn",
    "outputId": "a124d5d1-3001-4752-8015-f180ddbba067",
    "slideshow": {
     "slide_type": "slide"
    }
   },
   "outputs": [
    {
     "data": {
      "text/plain": [
       "(1, 2, 1, 2, 1, 2, 1, 2)"
      ]
     },
     "execution_count": 181,
     "metadata": {},
     "output_type": "execute_result"
    }
   ],
   "source": [
    "#reptition\n",
    "t4 = (1,2)*4\n",
    "t4"
   ]
  },
  {
   "cell_type": "code",
   "execution_count": 182,
   "metadata": {
    "colab": {
     "base_uri": "https://localhost:8080/"
    },
    "id": "_zpsuuwwt3u8",
    "outputId": "adfd470b-4bb5-4acc-ac35-6813cce85d2b",
    "slideshow": {
     "slide_type": "slide"
    }
   },
   "outputs": [
    {
     "data": {
      "text/plain": [
       "1"
      ]
     },
     "execution_count": 182,
     "metadata": {},
     "output_type": "execute_result"
    }
   ],
   "source": [
    "#Indexing\n",
    "t3[0]"
   ]
  },
  {
   "cell_type": "code",
   "execution_count": 183,
   "metadata": {
    "colab": {
     "base_uri": "https://localhost:8080/"
    },
    "id": "htS4cJwTt7_h",
    "outputId": "ffd1ae83-f013-4d97-e8a1-5bc8fc2ae41e",
    "slideshow": {
     "slide_type": "slide"
    }
   },
   "outputs": [
    {
     "data": {
      "text/plain": [
       "(2, 3)"
      ]
     },
     "execution_count": 183,
     "metadata": {},
     "output_type": "execute_result"
    }
   ],
   "source": [
    "#slicing\n",
    "t3[1:3]"
   ]
  },
  {
   "cell_type": "code",
   "execution_count": 184,
   "metadata": {
    "colab": {
     "base_uri": "https://localhost:8080/"
    },
    "id": "PSyAcD1tuB9S",
    "outputId": "80fb72c9-4aa1-48ce-924b-6c0636e7f1fa",
    "slideshow": {
     "slide_type": "slide"
    }
   },
   "outputs": [
    {
     "data": {
      "text/plain": [
       "[2, 5, 7, 8, 9]"
      ]
     },
     "execution_count": 184,
     "metadata": {},
     "output_type": "execute_result"
    }
   ],
   "source": [
    "t = (9, 5, 8, 2, 7)\n",
    "sorted(t)"
   ]
  },
  {
   "cell_type": "code",
   "execution_count": 185,
   "metadata": {
    "id": "40h6iWjwuJE2",
    "slideshow": {
     "slide_type": "slide"
    }
   },
   "outputs": [],
   "source": [
    "# list to tuple\n",
    "l = [2,6,4]\n",
    "t = tuple(l)"
   ]
  },
  {
   "cell_type": "code",
   "execution_count": 186,
   "metadata": {
    "colab": {
     "base_uri": "https://localhost:8080/"
    },
    "id": "BJ4C2zQAuJJO",
    "outputId": "49488e09-0ead-444b-8781-47df2f549a76",
    "slideshow": {
     "slide_type": "slide"
    }
   },
   "outputs": [
    {
     "data": {
      "text/plain": [
       "[14, 17, 10, 25]"
      ]
     },
     "execution_count": 186,
     "metadata": {},
     "output_type": "execute_result"
    }
   ],
   "source": [
    "# list from existing tuple using comprehension\n",
    "t = (12, 15, 8, 23)\n",
    "l = [x+2 for x in t]\n",
    "l"
   ]
  },
  {
   "cell_type": "code",
   "execution_count": 187,
   "metadata": {
    "id": "XHJ2ijBovcdj",
    "slideshow": {
     "slide_type": "slide"
    }
   },
   "outputs": [],
   "source": [
    "t = (12, 15, 12, 8, 23, 12, 34, 90, 12)"
   ]
  },
  {
   "cell_type": "code",
   "execution_count": 188,
   "metadata": {
    "colab": {
     "base_uri": "https://localhost:8080/"
    },
    "id": "sbZUfGx4vsVP",
    "outputId": "b323e143-3080-4872-932b-3ccee9d60758",
    "slideshow": {
     "slide_type": "slide"
    }
   },
   "outputs": [
    {
     "data": {
      "text/plain": [
       "4"
      ]
     },
     "execution_count": 188,
     "metadata": {},
     "output_type": "execute_result"
    }
   ],
   "source": [
    "t.count(12)"
   ]
  },
  {
   "cell_type": "code",
   "execution_count": 190,
   "metadata": {
    "id": "qYo_hcd1xSXu",
    "slideshow": {
     "slide_type": "slide"
    }
   },
   "outputs": [],
   "source": [
    "#Nested Tuples\n",
    "T = (1, [2, 3], 4)"
   ]
  },
  {
   "cell_type": "code",
   "execution_count": 192,
   "metadata": {
    "colab": {
     "base_uri": "https://localhost:8080/",
     "height": 171
    },
    "id": "lgPWsYmxxfsP",
    "outputId": "d3f2f199-0cb7-40e5-81e0-98cae704efaf",
    "scrolled": true,
    "slideshow": {
     "slide_type": "slide"
    }
   },
   "outputs": [
    {
     "ename": "TypeError",
     "evalue": "ignored",
     "output_type": "error",
     "traceback": [
      "\u001b[0;31m---------------------------------------------------------------------------\u001b[0m",
      "\u001b[0;31mTypeError\u001b[0m                                 Traceback (most recent call last)",
      "\u001b[0;32m<ipython-input-192-b97a64a073e1>\u001b[0m in \u001b[0;36m<module>\u001b[0;34m()\u001b[0m\n\u001b[0;32m----> 1\u001b[0;31m \u001b[0mT\u001b[0m \u001b[0;34m[\u001b[0m\u001b[0;36m0\u001b[0m\u001b[0;34m]\u001b[0m \u001b[0;34m=\u001b[0m \u001b[0;36m10\u001b[0m\u001b[0;34m\u001b[0m\u001b[0;34m\u001b[0m\u001b[0m\n\u001b[0m",
      "\u001b[0;31mTypeError\u001b[0m: 'tuple' object does not support item assignment"
     ]
    }
   ],
   "source": [
    "T [0] = 10"
   ]
  },
  {
   "cell_type": "code",
   "execution_count": 193,
   "metadata": {
    "colab": {
     "base_uri": "https://localhost:8080/"
    },
    "id": "FS86XC75xjRh",
    "outputId": "132ae553-bb78-4051-a8d0-f1c02d5498b5",
    "slideshow": {
     "slide_type": "slide"
    }
   },
   "outputs": [
    {
     "data": {
      "text/plain": [
       "(1, [10, 3], 4)"
      ]
     },
     "execution_count": 193,
     "metadata": {},
     "output_type": "execute_result"
    }
   ],
   "source": [
    "# we can change mutable object inside a tuple\n",
    "T[1][0] = 10\n",
    "T"
   ]
  },
  {
   "cell_type": "code",
   "execution_count": 41,
   "metadata": {
    "colab": {
     "base_uri": "https://localhost:8080/"
    },
    "id": "kkRF6o_1yLeQ",
    "outputId": "05d470d6-5959-4e9f-b01f-0c1b98783b49",
    "slideshow": {
     "slide_type": "slide"
    }
   },
   "outputs": [
    {
     "name": "stdout",
     "output_type": "stream",
     "text": [
      "('physics', 'chemistry', 1997, 2000)\n"
     ]
    }
   ],
   "source": [
    "# Removing individual tuple elements is not possible\n",
    "# But possible to remove an entire tuple\n",
    "tup = ('physics', 'chemistry', 1997, 2000);\n",
    "print (tup)\n"
   ]
  },
  {
   "cell_type": "code",
   "execution_count": 42,
   "metadata": {
    "colab": {
     "base_uri": "https://localhost:8080/",
     "height": 206
    },
    "id": "7rrJF32WyQVA",
    "outputId": "5c9d6aba-e11a-4ced-ccfb-e2b242caa624",
    "scrolled": true,
    "slideshow": {
     "slide_type": "slide"
    }
   },
   "outputs": [
    {
     "name": "stdout",
     "output_type": "stream",
     "text": [
      "After deleting tup : \n"
     ]
    },
    {
     "ename": "NameError",
     "evalue": "name 'tup' is not defined",
     "output_type": "error",
     "traceback": [
      "\u001b[0;31m---------------------------------------------------------------------------\u001b[0m",
      "\u001b[0;31mNameError\u001b[0m                                 Traceback (most recent call last)",
      "\u001b[0;32m<ipython-input-42-9d4b4784e24c>\u001b[0m in \u001b[0;36m<module>\u001b[0;34m\u001b[0m\n\u001b[1;32m      1\u001b[0m \u001b[0;32mdel\u001b[0m \u001b[0mtup\u001b[0m\u001b[0;34m;\u001b[0m\u001b[0;34m\u001b[0m\u001b[0;34m\u001b[0m\u001b[0m\n\u001b[1;32m      2\u001b[0m \u001b[0mprint\u001b[0m \u001b[0;34m(\u001b[0m\u001b[0;34m\"After deleting tup : \"\u001b[0m\u001b[0;34m)\u001b[0m\u001b[0;34m\u001b[0m\u001b[0;34m\u001b[0m\u001b[0m\n\u001b[0;32m----> 3\u001b[0;31m \u001b[0mprint\u001b[0m \u001b[0;34m(\u001b[0m\u001b[0mtup\u001b[0m\u001b[0;34m)\u001b[0m\u001b[0;34m\u001b[0m\u001b[0;34m\u001b[0m\u001b[0m\n\u001b[0m",
      "\u001b[0;31mNameError\u001b[0m: name 'tup' is not defined"
     ]
    }
   ],
   "source": [
    "del tup;\n",
    "print (\"After deleting tup : \")\n",
    "print (tup)\n"
   ]
  },
  {
   "cell_type": "code",
   "execution_count": 197,
   "metadata": {
    "colab": {
     "base_uri": "https://localhost:8080/"
    },
    "id": "Ctbvw2NuyYO7",
    "outputId": "e3cef79b-0e13-4e7d-a612-48d2b11c350c",
    "slideshow": {
     "slide_type": "slide"
    }
   },
   "outputs": [
    {
     "name": "stdout",
     "output_type": "stream",
     "text": [
      "7\n",
      "1\n"
     ]
    }
   ],
   "source": [
    "t1 = (1,2,3,7,4)\n",
    "\n",
    "print(max(t1))\n",
    "\n",
    "print(min(t1))\n"
   ]
  },
  {
   "cell_type": "code",
   "execution_count": 5,
   "metadata": {
    "slideshow": {
     "slide_type": "slide"
    }
   },
   "outputs": [
    {
     "name": "stdout",
     "output_type": "stream",
     "text": [
      "1\n",
      "2\n"
     ]
    }
   ],
   "source": [
    "#unpacking\n",
    "a, b = [1,2]\n",
    "print(a)\n",
    "print(b)"
   ]
  },
  {
   "cell_type": "code",
   "execution_count": 6,
   "metadata": {
    "slideshow": {
     "slide_type": "slide"
    }
   },
   "outputs": [
    {
     "name": "stdout",
     "output_type": "stream",
     "text": [
      "1\n",
      "2\n"
     ]
    }
   ],
   "source": [
    "p,q = (1,2)\n",
    "print(p)\n",
    "print(q)"
   ]
  },
  {
   "cell_type": "code",
   "execution_count": 7,
   "metadata": {
    "slideshow": {
     "slide_type": "slide"
    }
   },
   "outputs": [
    {
     "data": {
      "text/plain": [
       "tuple"
      ]
     },
     "execution_count": 7,
     "metadata": {},
     "output_type": "execute_result"
    }
   ],
   "source": [
    "# comma separated values are treated as tuples\n",
    "t = 3,4\n",
    "type(t)"
   ]
  },
  {
   "cell_type": "markdown",
   "metadata": {
    "id": "c2t_J23wrh9b",
    "slideshow": {
     "slide_type": "slide"
    }
   },
   "source": [
    "**Swapping two numbers in Python**\n"
   ]
  },
  {
   "cell_type": "code",
   "execution_count": 7,
   "metadata": {
    "colab": {
     "base_uri": "https://localhost:8080/"
    },
    "id": "cV16oSvQrZkL",
    "outputId": "defb244a-8fc5-4372-ec63-5247f9700f49",
    "slideshow": {
     "slide_type": "slide"
    }
   },
   "outputs": [
    {
     "name": "stdout",
     "output_type": "stream",
     "text": [
      "4\n",
      "6\n"
     ]
    }
   ],
   "source": [
    "a = 6\n",
    "b = 4\n",
    "a,b = b,a\n",
    "print(a)\n",
    "print(b)"
   ]
  },
  {
   "cell_type": "markdown",
   "metadata": {
    "id": "09f39c93",
    "slideshow": {
     "slide_type": "slide"
    }
   },
   "source": [
    "**Dictionaries**\n",
    "\n",
    "Given month name of a non-leap year that is input is January, February and so on, print number of days\n",
    "\n",
    "* to accomplish this we need a structure which is indexed by our choice\n",
    "\n",
    "* Python supports such kind of structure through Dictionaries\n",
    "\n",
    "* Unordered collection of elements which represents a kind of associative memory\n",
    "\n",
    "* Each element is a pair of key and value\n",
    "\n",
    "\n"
   ]
  },
  {
   "cell_type": "markdown",
   "metadata": {
    "id": "83fc5f6c",
    "slideshow": {
     "slide_type": "slide"
    }
   },
   "source": [
    "**Indexed by key**\n",
    "\n",
    "* Key should be unique and immutable\n",
    "\n",
    "* Values can have duplicates and can be mutable also\n",
    "\n"
   ]
  },
  {
   "cell_type": "code",
   "execution_count": 198,
   "metadata": {
    "id": "17a6a37e",
    "slideshow": {
     "slide_type": "slide"
    }
   },
   "outputs": [],
   "source": [
    "# Empty Dictionary - {}\n",
    "e = {}\n"
   ]
  },
  {
   "cell_type": "code",
   "execution_count": 44,
   "metadata": {
    "id": "2a0e8de5",
    "slideshow": {
     "slide_type": "slide"
    }
   },
   "outputs": [],
   "source": [
    "num_days = { 'January' : 31, 'February' : 28, 'March' : 31, 'April' : 30,\n",
    "            'May' : 31, 'June' : 30, 'July' : 31, 'August' : 31, 'September' : 30, \n",
    "            'October' : 31, 'November' : 30, 'December' : 31 }"
   ]
  },
  {
   "cell_type": "markdown",
   "metadata": {
    "id": "e0ebb0bc",
    "slideshow": {
     "slide_type": "slide"
    }
   },
   "source": [
    "**Print number of days in November**"
   ]
  },
  {
   "cell_type": "code",
   "execution_count": 45,
   "metadata": {
    "colab": {
     "base_uri": "https://localhost:8080/"
    },
    "id": "5afd406a",
    "outputId": "74421bf9-928a-4d39-a633-b2a69a031932",
    "slideshow": {
     "slide_type": "slide"
    }
   },
   "outputs": [
    {
     "data": {
      "text/plain": [
       "30"
      ]
     },
     "execution_count": 45,
     "metadata": {},
     "output_type": "execute_result"
    }
   ],
   "source": [
    "num_days ['November']"
   ]
  },
  {
   "cell_type": "code",
   "execution_count": 53,
   "metadata": {},
   "outputs": [
    {
     "data": {
      "text/plain": [
       "[28, 30, 30, 30, 30, 31, 31, 31, 31, 31, 31, 31]"
      ]
     },
     "execution_count": 53,
     "metadata": {},
     "output_type": "execute_result"
    }
   ],
   "source": [
    "l = list(num_days.values())\n",
    "l.sort()\n",
    "l"
   ]
  },
  {
   "cell_type": "code",
   "execution_count": 207,
   "metadata": {
    "colab": {
     "base_uri": "https://localhost:8080/"
    },
    "id": "5947e024",
    "outputId": "030c43b5-fa8c-42a8-f115-bf58183dcbd5",
    "slideshow": {
     "slide_type": "slide"
    }
   },
   "outputs": [
    {
     "name": "stdout",
     "output_type": "stream",
     "text": [
      "January   31\n",
      "February   28\n",
      "March   31\n",
      "April   30\n",
      "May   31\n",
      "June   30\n",
      "July   31\n",
      "August   31\n",
      "September   30\n",
      "October   31\n",
      "November   30\n",
      "December   31\n"
     ]
    }
   ],
   "source": [
    "# method 2\n",
    "for n,d in num_days.items():\n",
    "    print(n,' ',d)"
   ]
  },
  {
   "cell_type": "code",
   "execution_count": 210,
   "metadata": {
    "id": "09f96fd7",
    "slideshow": {
     "slide_type": "slide"
    }
   },
   "outputs": [],
   "source": [
    "num_days['February'] = 29"
   ]
  },
  {
   "cell_type": "code",
   "execution_count": 211,
   "metadata": {
    "colab": {
     "base_uri": "https://localhost:8080/"
    },
    "id": "670bccaa",
    "outputId": "0e430afa-c839-4859-fe89-876dabe6a0e2",
    "slideshow": {
     "slide_type": "slide"
    }
   },
   "outputs": [
    {
     "data": {
      "text/plain": [
       "{'April': 30,\n",
       " 'August': 31,\n",
       " 'December': 31,\n",
       " 'February': 29,\n",
       " 'January': 31,\n",
       " 'July': 31,\n",
       " 'June': 30,\n",
       " 'March': 31,\n",
       " 'May': 31,\n",
       " 'November': 30,\n",
       " 'October': 31,\n",
       " 'September': 30}"
      ]
     },
     "execution_count": 211,
     "metadata": {},
     "output_type": "execute_result"
    }
   ],
   "source": [
    "num_days"
   ]
  },
  {
   "cell_type": "markdown",
   "metadata": {
    "id": "96b78e8c",
    "slideshow": {
     "slide_type": "slide"
    }
   },
   "source": [
    "**December is a month of celeberation and no work should be allotted so remove the month december from num_days**\n"
   ]
  },
  {
   "cell_type": "code",
   "execution_count": 212,
   "metadata": {
    "id": "36323692",
    "slideshow": {
     "slide_type": "slide"
    }
   },
   "outputs": [],
   "source": [
    "del num_days['December']"
   ]
  },
  {
   "cell_type": "code",
   "execution_count": 213,
   "metadata": {
    "colab": {
     "base_uri": "https://localhost:8080/"
    },
    "id": "0e1e2b96",
    "outputId": "95d33c2c-3d93-4aec-a2ae-461ef6504c55",
    "slideshow": {
     "slide_type": "slide"
    }
   },
   "outputs": [
    {
     "data": {
      "text/plain": [
       "{'April': 30,\n",
       " 'August': 31,\n",
       " 'February': 29,\n",
       " 'January': 31,\n",
       " 'July': 31,\n",
       " 'June': 30,\n",
       " 'March': 31,\n",
       " 'May': 31,\n",
       " 'November': 30,\n",
       " 'October': 31,\n",
       " 'September': 30}"
      ]
     },
     "execution_count": 213,
     "metadata": {},
     "output_type": "execute_result"
    }
   ],
   "source": [
    "num_days"
   ]
  },
  {
   "cell_type": "code",
   "execution_count": 214,
   "metadata": {
    "id": "6a2a395c",
    "slideshow": {
     "slide_type": "slide"
    }
   },
   "outputs": [],
   "source": [
    "num_days.clear() #remove all elements of dictionary but \n",
    "# still object exist as an empty dictionary"
   ]
  },
  {
   "cell_type": "code",
   "execution_count": 215,
   "metadata": {
    "colab": {
     "base_uri": "https://localhost:8080/"
    },
    "id": "e0993651",
    "outputId": "678c27a7-be20-4031-d25b-ea3bcf509413",
    "slideshow": {
     "slide_type": "slide"
    }
   },
   "outputs": [
    {
     "data": {
      "text/plain": [
       "{}"
      ]
     },
     "execution_count": 215,
     "metadata": {},
     "output_type": "execute_result"
    }
   ],
   "source": [
    "num_days"
   ]
  },
  {
   "cell_type": "code",
   "execution_count": 216,
   "metadata": {
    "id": "b6352643",
    "slideshow": {
     "slide_type": "slide"
    }
   },
   "outputs": [],
   "source": [
    "del num_days # object itself is removed by del"
   ]
  },
  {
   "cell_type": "code",
   "execution_count": 218,
   "metadata": {
    "colab": {
     "base_uri": "https://localhost:8080/",
     "height": 171
    },
    "id": "aaf3f501",
    "outputId": "51ee58a8-4fdb-483d-d92d-0e0f8a965911",
    "slideshow": {
     "slide_type": "slide"
    }
   },
   "outputs": [
    {
     "ename": "NameError",
     "evalue": "ignored",
     "output_type": "error",
     "traceback": [
      "\u001b[0;31m---------------------------------------------------------------------------\u001b[0m",
      "\u001b[0;31mNameError\u001b[0m                                 Traceback (most recent call last)",
      "\u001b[0;32m<ipython-input-218-3f9a862816e1>\u001b[0m in \u001b[0;36m<module>\u001b[0;34m()\u001b[0m\n\u001b[0;32m----> 1\u001b[0;31m \u001b[0mnum_days\u001b[0m\u001b[0;34m\u001b[0m\u001b[0;34m\u001b[0m\u001b[0m\n\u001b[0m",
      "\u001b[0;31mNameError\u001b[0m: name 'num_days' is not defined"
     ]
    }
   ],
   "source": [
    "num_days"
   ]
  },
  {
   "cell_type": "markdown",
   "metadata": {
    "id": "d656fed7",
    "slideshow": {
     "slide_type": "slide"
    }
   },
   "source": [
    "**Given a list of fruits that starts with unique letters, build a dictionary with starting letter as key and fruit name as value**\n"
   ]
  },
  {
   "cell_type": "code",
   "execution_count": 224,
   "metadata": {
    "id": "55d3cd36",
    "slideshow": {
     "slide_type": "slide"
    }
   },
   "outputs": [],
   "source": [
    "fruits = ['mangoes','apple','orange','pear','berry']"
   ]
  },
  {
   "cell_type": "code",
   "execution_count": 225,
   "metadata": {
    "id": "5b8bf853",
    "slideshow": {
     "slide_type": "slide"
    }
   },
   "outputs": [],
   "source": [
    "f_dict = {}"
   ]
  },
  {
   "cell_type": "code",
   "execution_count": 226,
   "metadata": {
    "id": "f5af7273",
    "slideshow": {
     "slide_type": "slide"
    }
   },
   "outputs": [],
   "source": [
    "for f in fruits:\n",
    "    f_dict[f[0]] = f\n",
    "    "
   ]
  },
  {
   "cell_type": "code",
   "execution_count": 227,
   "metadata": {
    "colab": {
     "base_uri": "https://localhost:8080/"
    },
    "id": "69e30e80",
    "outputId": "67793beb-63fe-49d5-b1e2-d8b089b9e4d1",
    "slideshow": {
     "slide_type": "slide"
    }
   },
   "outputs": [
    {
     "data": {
      "text/plain": [
       "{'a': 'apple', 'b': 'berry', 'm': 'mangoes', 'o': 'orange', 'p': 'pear'}"
      ]
     },
     "execution_count": 227,
     "metadata": {},
     "output_type": "execute_result"
    }
   ],
   "source": [
    "f_dict"
   ]
  },
  {
   "cell_type": "markdown",
   "metadata": {
    "id": "33a94e3f",
    "slideshow": {
     "slide_type": "slide"
    }
   },
   "source": [
    "**Print number of names of digits from 1 to 5**\n"
   ]
  },
  {
   "cell_type": "code",
   "execution_count": 228,
   "metadata": {
    "id": "9eb608f3",
    "slideshow": {
     "slide_type": "slide"
    }
   },
   "outputs": [],
   "source": [
    "num_names = {1:'One', 2:'Two',3:'Three',4:'Four',5:'Five'}"
   ]
  },
  {
   "cell_type": "code",
   "execution_count": 229,
   "metadata": {
    "colab": {
     "base_uri": "https://localhost:8080/"
    },
    "id": "393c78ac",
    "outputId": "b0e4c08e-f688-4cdf-ebba-894cd1559e87",
    "slideshow": {
     "slide_type": "slide"
    }
   },
   "outputs": [
    {
     "name": "stdout",
     "output_type": "stream",
     "text": [
      "One\n",
      "Two\n",
      "Three\n",
      "Four\n",
      "Five\n"
     ]
    }
   ],
   "source": [
    "for i in range(1,6):\n",
    "    print(num_names[i])"
   ]
  },
  {
   "cell_type": "markdown",
   "metadata": {
    "slideshow": {
     "slide_type": "slide"
    }
   },
   "source": [
    "**Given a list of numbers l, find the sum of absolute difference between adjacent multiples of 2, 3, 4 and 5. Multiples are to be taken in the order same as input. If a number is divisible by more than one number in l, consider for all factors**"
   ]
  },
  {
   "cell_type": "code",
   "execution_count": 9,
   "metadata": {
    "slideshow": {
     "slide_type": "slide"
    }
   },
   "outputs": [],
   "source": [
    "l = [15,20,35,34,45]"
   ]
  },
  {
   "cell_type": "code",
   "execution_count": 10,
   "metadata": {
    "slideshow": {
     "slide_type": "slide"
    }
   },
   "outputs": [],
   "source": [
    "factors = [2,3,4, 5]"
   ]
  },
  {
   "cell_type": "code",
   "execution_count": 11,
   "metadata": {
    "slideshow": {
     "slide_type": "slide"
    }
   },
   "outputs": [],
   "source": [
    "mul_dict = {}"
   ]
  },
  {
   "cell_type": "code",
   "execution_count": 13,
   "metadata": {
    "colab": {
     "base_uri": "https://localhost:8080/",
     "height": 260
    },
    "id": "b681e4de",
    "outputId": "897da453-1487-4d88-a1a2-d613fafe52c8",
    "slideshow": {
     "slide_type": "slide"
    }
   },
   "outputs": [],
   "source": [
    "for f in factors:\n",
    "    for mul in l:\n",
    "        if mul%f == 0:\n",
    "            if f in mul_dict:\n",
    "                mul_dict[f].append(mul)\n",
    "            else:\n",
    "                mul_dict[f] = [mul]"
   ]
  },
  {
   "cell_type": "code",
   "execution_count": 14,
   "metadata": {
    "slideshow": {
     "slide_type": "slide"
    }
   },
   "outputs": [
    {
     "data": {
      "text/plain": [
       "{2: [20, 34], 3: [15, 45], 4: [20], 5: [15, 20, 35, 45]}"
      ]
     },
     "execution_count": 14,
     "metadata": {},
     "output_type": "execute_result"
    }
   ],
   "source": [
    "mul_dict"
   ]
  },
  {
   "cell_type": "code",
   "execution_count": 15,
   "metadata": {
    "slideshow": {
     "slide_type": "slide"
    }
   },
   "outputs": [
    {
     "data": {
      "text/plain": [
       "[15, 45]"
      ]
     },
     "execution_count": 15,
     "metadata": {},
     "output_type": "execute_result"
    }
   ],
   "source": [
    "mul_dict.pop(3)"
   ]
  },
  {
   "cell_type": "markdown",
   "metadata": {
    "id": "d3acde8d",
    "slideshow": {
     "slide_type": "slide"
    }
   },
   "source": [
    "**Queries with slots Chosen**\n",
    "\n",
    "* Given slots chosen by two students S1 and S2 find Slots chosen by student either S1 or S2\n",
    "* Set in Python support all kind of operations in set theory\n",
    "\n",
    "**Properties of Set**\n",
    "* List without duplicates\n",
    "* Unordered collection \n",
    "* Sets are mutable\n",
    "* Members can only be immutable\n",
    "* Curly braces are used\n"
   ]
  },
  {
   "cell_type": "code",
   "execution_count": 55,
   "metadata": {
    "id": "ab6710ef",
    "slideshow": {
     "slide_type": "slide"
    }
   },
   "outputs": [
    {
     "data": {
      "text/plain": [
       "dict"
      ]
     },
     "execution_count": 55,
     "metadata": {},
     "output_type": "execute_result"
    }
   ],
   "source": [
    "# empty set\n",
    "S1 = {}\n",
    "type(S1)"
   ]
  },
  {
   "cell_type": "code",
   "execution_count": 58,
   "metadata": {
    "id": "b597f41a",
    "slideshow": {
     "slide_type": "slide"
    }
   },
   "outputs": [],
   "source": [
    "S1 = {'A1', 'B1', 'C1'}\n",
    "S2 = {'C1', 'D1', 'E1'}"
   ]
  },
  {
   "cell_type": "markdown",
   "metadata": {
    "id": "de002013",
    "slideshow": {
     "slide_type": "slide"
    }
   },
   "source": [
    "**Print slots chosen by student either S1 or S2**"
   ]
  },
  {
   "cell_type": "code",
   "execution_count": 18,
   "metadata": {
    "colab": {
     "base_uri": "https://localhost:8080/"
    },
    "id": "dea3885c",
    "outputId": "2cb4736f-28a2-4707-bda1-5953aeb67eb8",
    "slideshow": {
     "slide_type": "slide"
    }
   },
   "outputs": [
    {
     "name": "stdout",
     "output_type": "stream",
     "text": [
      "{'C1', 'A1', 'B1', 'E1', 'D1'}\n"
     ]
    }
   ],
   "source": [
    "print(S1|S2)"
   ]
  },
  {
   "cell_type": "code",
   "execution_count": 57,
   "metadata": {
    "colab": {
     "base_uri": "https://localhost:8080/"
    },
    "id": "8ceb4028",
    "outputId": "fa76ff14-4743-4c08-b73e-9f40138c06c4",
    "slideshow": {
     "slide_type": "slide"
    }
   },
   "outputs": [
    {
     "ename": "AttributeError",
     "evalue": "'dict' object has no attribute 'union'",
     "output_type": "error",
     "traceback": [
      "\u001b[0;31m---------------------------------------------------------------------------\u001b[0m",
      "\u001b[0;31mAttributeError\u001b[0m                            Traceback (most recent call last)",
      "\u001b[0;32m<ipython-input-57-95ecf2eeccb8>\u001b[0m in \u001b[0;36m<module>\u001b[0;34m\u001b[0m\n\u001b[0;32m----> 1\u001b[0;31m \u001b[0mprint\u001b[0m\u001b[0;34m(\u001b[0m\u001b[0mS1\u001b[0m\u001b[0;34m.\u001b[0m\u001b[0munion\u001b[0m\u001b[0;34m(\u001b[0m\u001b[0mS2\u001b[0m\u001b[0;34m)\u001b[0m\u001b[0;34m)\u001b[0m\u001b[0;34m\u001b[0m\u001b[0;34m\u001b[0m\u001b[0m\n\u001b[0m",
      "\u001b[0;31mAttributeError\u001b[0m: 'dict' object has no attribute 'union'"
     ]
    }
   ],
   "source": [
    "print(S1.union(S2))"
   ]
  },
  {
   "cell_type": "code",
   "execution_count": 56,
   "metadata": {
    "id": "565de256",
    "slideshow": {
     "slide_type": "slide"
    }
   },
   "outputs": [],
   "source": [
    "S3 = ['D1','C1']"
   ]
  },
  {
   "cell_type": "code",
   "execution_count": 60,
   "metadata": {
    "colab": {
     "base_uri": "https://localhost:8080/",
     "height": 171
    },
    "id": "fc9fc8e7",
    "outputId": "533c8ff6-e61b-4f58-faa0-220a9ab5b19f",
    "slideshow": {
     "slide_type": "slide"
    }
   },
   "outputs": [
    {
     "name": "stdout",
     "output_type": "stream",
     "text": [
      "{'A1', 'C1', 'B1', 'D1'}\n"
     ]
    }
   ],
   "source": [
    "print(S1|set(S3))"
   ]
  },
  {
   "cell_type": "code",
   "execution_count": 22,
   "metadata": {
    "colab": {
     "base_uri": "https://localhost:8080/"
    },
    "id": "dfc52bb1",
    "outputId": "2f18c3ac-1165-4516-bdd4-33e535130f20",
    "slideshow": {
     "slide_type": "slide"
    }
   },
   "outputs": [
    {
     "name": "stdout",
     "output_type": "stream",
     "text": [
      "{'C1', 'A1', 'B1', 'D1'}\n"
     ]
    }
   ],
   "source": [
    "print(S1|set(S3))"
   ]
  },
  {
   "cell_type": "code",
   "execution_count": 23,
   "metadata": {
    "colab": {
     "base_uri": "https://localhost:8080/"
    },
    "id": "ea70a95e",
    "outputId": "6a400c95-2361-420a-a312-f820d85d7280",
    "slideshow": {
     "slide_type": "slide"
    }
   },
   "outputs": [
    {
     "name": "stdout",
     "output_type": "stream",
     "text": [
      "{'C1', 'D1', 'A1', 'B1'}\n"
     ]
    }
   ],
   "source": [
    "print(S1.union(S3))"
   ]
  },
  {
   "cell_type": "markdown",
   "metadata": {
    "id": "ca880fdc",
    "slideshow": {
     "slide_type": "slide"
    }
   },
   "source": [
    "**Print slots chosen only by S1 but not by S2**"
   ]
  },
  {
   "cell_type": "code",
   "execution_count": 24,
   "metadata": {
    "colab": {
     "base_uri": "https://localhost:8080/"
    },
    "id": "d7870ef9",
    "outputId": "ae1002b5-a380-4d42-9710-d716e30829e3",
    "slideshow": {
     "slide_type": "slide"
    }
   },
   "outputs": [
    {
     "name": "stdout",
     "output_type": "stream",
     "text": [
      "{'A1', 'B1'}\n"
     ]
    }
   ],
   "source": [
    "print(S1-S2)"
   ]
  },
  {
   "cell_type": "code",
   "execution_count": 25,
   "metadata": {
    "colab": {
     "base_uri": "https://localhost:8080/"
    },
    "id": "29491abd",
    "outputId": "067fcba9-721b-4920-d47f-1656e932591c",
    "slideshow": {
     "slide_type": "slide"
    }
   },
   "outputs": [
    {
     "name": "stdout",
     "output_type": "stream",
     "text": [
      "{'A1', 'B1'}\n"
     ]
    }
   ],
   "source": [
    "print(S1.difference(S2))"
   ]
  },
  {
   "cell_type": "code",
   "execution_count": 26,
   "metadata": {
    "colab": {
     "base_uri": "https://localhost:8080/"
    },
    "id": "213e99d0",
    "outputId": "8604d3c7-76e5-4c7f-b5fe-99b0f6a82ef4",
    "slideshow": {
     "slide_type": "slide"
    }
   },
   "outputs": [
    {
     "name": "stdout",
     "output_type": "stream",
     "text": [
      "{'A1', 'B1', 'E1', 'D1'}\n"
     ]
    }
   ],
   "source": [
    "# s1 - s2 U s2 - s1\n",
    "print(S1.symmetric_difference(S2))"
   ]
  },
  {
   "cell_type": "code",
   "execution_count": 28,
   "metadata": {},
   "outputs": [
    {
     "name": "stdout",
     "output_type": "stream",
     "text": [
      "{'D1', 'E1'}\n"
     ]
    }
   ],
   "source": [
    "print(S2-S1)"
   ]
  },
  {
   "cell_type": "markdown",
   "metadata": {
    "id": "e74c519d",
    "slideshow": {
     "slide_type": "slide"
    }
   },
   "source": [
    "**Print Slots chosen by both S1 and S2**\n"
   ]
  },
  {
   "cell_type": "code",
   "execution_count": 251,
   "metadata": {
    "colab": {
     "base_uri": "https://localhost:8080/"
    },
    "id": "a12cb2b1",
    "outputId": "dc091623-d0e6-40cc-9796-cde082368550",
    "slideshow": {
     "slide_type": "slide"
    }
   },
   "outputs": [
    {
     "name": "stdout",
     "output_type": "stream",
     "text": [
      "{'C1'}\n"
     ]
    }
   ],
   "source": [
    "print(S1&S2)"
   ]
  },
  {
   "cell_type": "code",
   "execution_count": 252,
   "metadata": {
    "id": "15e9dbab",
    "slideshow": {
     "slide_type": "slide"
    }
   },
   "outputs": [],
   "source": [
    "S1.add('F1')"
   ]
  },
  {
   "cell_type": "code",
   "execution_count": 253,
   "metadata": {
    "colab": {
     "base_uri": "https://localhost:8080/"
    },
    "id": "68da7490",
    "outputId": "2e798274-61dc-4e33-ec32-46f0d6740c64",
    "slideshow": {
     "slide_type": "slide"
    }
   },
   "outputs": [
    {
     "data": {
      "text/plain": [
       "{'A1', 'B1', 'C1', 'F1'}"
      ]
     },
     "execution_count": 253,
     "metadata": {},
     "output_type": "execute_result"
    }
   ],
   "source": [
    "S1"
   ]
  },
  {
   "cell_type": "code",
   "execution_count": 254,
   "metadata": {
    "colab": {
     "base_uri": "https://localhost:8080/",
     "height": 35
    },
    "id": "ac9b9290",
    "outputId": "3b129b72-ace9-470f-b853-c12589d8c8c2",
    "slideshow": {
     "slide_type": "slide"
    }
   },
   "outputs": [
    {
     "data": {
      "application/vnd.google.colaboratory.intrinsic+json": {
       "type": "string"
      },
      "text/plain": [
       "'F1'"
      ]
     },
     "execution_count": 254,
     "metadata": {},
     "output_type": "execute_result"
    }
   ],
   "source": [
    "S1.pop()"
   ]
  },
  {
   "cell_type": "markdown",
   "metadata": {
    "id": "a0ef66f9",
    "slideshow": {
     "slide_type": "slide"
    }
   },
   "source": [
    "**Assignment Operator in Python and Shallow Copying**"
   ]
  },
  {
   "cell_type": "code",
   "execution_count": 8,
   "metadata": {
    "id": "1eb17459",
    "slideshow": {
     "slide_type": "slide"
    }
   },
   "outputs": [],
   "source": [
    "L = [1,4,7]"
   ]
  },
  {
   "cell_type": "code",
   "execution_count": 10,
   "metadata": {
    "id": "6e524707",
    "slideshow": {
     "slide_type": "slide"
    }
   },
   "outputs": [
    {
     "name": "stdout",
     "output_type": "stream",
     "text": [
      "[1, 4, 7]\n",
      "[1, 4, 7]\n"
     ]
    }
   ],
   "source": [
    "L1 = L\n",
    "print(L)\n",
    "print(L1)"
   ]
  },
  {
   "cell_type": "code",
   "execution_count": 11,
   "metadata": {
    "id": "a6b8af76",
    "slideshow": {
     "slide_type": "slide"
    }
   },
   "outputs": [],
   "source": [
    "L1[0] = 10"
   ]
  },
  {
   "cell_type": "code",
   "execution_count": 12,
   "metadata": {
    "colab": {
     "base_uri": "https://localhost:8080/"
    },
    "id": "9c4cd4e2",
    "outputId": "44cad4e9-f0c3-4de6-8e19-621f4bcb0e2f",
    "slideshow": {
     "slide_type": "slide"
    }
   },
   "outputs": [
    {
     "data": {
      "text/plain": [
       "[10, 4, 7]"
      ]
     },
     "execution_count": 12,
     "metadata": {},
     "output_type": "execute_result"
    }
   ],
   "source": [
    "L1\n"
   ]
  },
  {
   "cell_type": "code",
   "execution_count": 13,
   "metadata": {
    "colab": {
     "base_uri": "https://localhost:8080/"
    },
    "id": "d8caa32d",
    "outputId": "e98e6e3a-da00-4553-bdd5-bc031b32326e",
    "slideshow": {
     "slide_type": "slide"
    }
   },
   "outputs": [
    {
     "data": {
      "text/plain": [
       "[10, 4, 7]"
      ]
     },
     "execution_count": 13,
     "metadata": {},
     "output_type": "execute_result"
    }
   ],
   "source": [
    "L"
   ]
  },
  {
   "cell_type": "markdown",
   "metadata": {
    "id": "7bb0fd65",
    "slideshow": {
     "slide_type": "slide"
    }
   },
   "source": [
    "**Copy Method**"
   ]
  },
  {
   "cell_type": "code",
   "execution_count": 260,
   "metadata": {
    "id": "105bb1a4",
    "slideshow": {
     "slide_type": "slide"
    }
   },
   "outputs": [],
   "source": [
    "L1 = L.copy()"
   ]
  },
  {
   "cell_type": "code",
   "execution_count": 261,
   "metadata": {
    "id": "481f03e7",
    "slideshow": {
     "slide_type": "slide"
    }
   },
   "outputs": [],
   "source": [
    "L1[0] = 20"
   ]
  },
  {
   "cell_type": "code",
   "execution_count": 262,
   "metadata": {
    "colab": {
     "base_uri": "https://localhost:8080/"
    },
    "id": "cb8ec1cd",
    "outputId": "4a47ffa6-b55c-4f0b-f1a7-ee9aa8cfc8c5",
    "slideshow": {
     "slide_type": "slide"
    }
   },
   "outputs": [
    {
     "data": {
      "text/plain": [
       "[20, 4, 7]"
      ]
     },
     "execution_count": 262,
     "metadata": {},
     "output_type": "execute_result"
    }
   ],
   "source": [
    "L1\n"
   ]
  },
  {
   "cell_type": "code",
   "execution_count": 263,
   "metadata": {
    "colab": {
     "base_uri": "https://localhost:8080/"
    },
    "id": "0147e827",
    "outputId": "ecf65ac6-211a-4046-fe42-5cafb5b5dcb3",
    "slideshow": {
     "slide_type": "slide"
    }
   },
   "outputs": [
    {
     "data": {
      "text/plain": [
       "[10, 4, 7]"
      ]
     },
     "execution_count": 263,
     "metadata": {},
     "output_type": "execute_result"
    }
   ],
   "source": [
    "L"
   ]
  },
  {
   "cell_type": "markdown",
   "metadata": {
    "id": "yGxFNhVh8Fpo",
    "slideshow": {
     "slide_type": "slide"
    }
   },
   "source": [
    "**Modular Programming**\n",
    "\n",
    "* Gives a clear idea about the solution\n",
    "* Developing a module helps to concentrate ona functionality\n",
    "* Check if the functionality is properly implemented\n",
    "* Integration of smaller modules to solve bigger problems\n",
    "* Easy check for mistakes \n",
    "* Easy to make changes"
   ]
  },
  {
   "cell_type": "markdown",
   "metadata": {
    "id": "uO6toRl287l5",
    "slideshow": {
     "slide_type": "slide"
    }
   },
   "source": [
    "**Functions in Python**\n",
    "* def keyword is used to define a function\n",
    "* Three type of parameters are supported\n",
    "  * Positional\n",
    "  * Default\n",
    "  * Keyword\n",
    "* Functions in Python can return multiple values"
   ]
  },
  {
   "cell_type": "code",
   "execution_count": 270,
   "metadata": {
    "id": "q83XbZEs8oeY",
    "slideshow": {
     "slide_type": "slide"
    }
   },
   "outputs": [],
   "source": [
    "# function definition with positional arguments\n",
    "def simple_interest(p,n,r):\n",
    "  return (p*n*r/100)"
   ]
  },
  {
   "cell_type": "code",
   "execution_count": 271,
   "metadata": {
    "colab": {
     "base_uri": "https://localhost:8080/"
    },
    "id": "vkSBC-IO8naD",
    "outputId": "22e40ddd-86d9-431d-8a60-a0c23a3884a1",
    "slideshow": {
     "slide_type": "slide"
    }
   },
   "outputs": [
    {
     "data": {
      "text/plain": [
       "500.0"
      ]
     },
     "execution_count": 271,
     "metadata": {},
     "output_type": "execute_result"
    }
   ],
   "source": [
    "simple_interest(1000,5,10)"
   ]
  },
  {
   "cell_type": "code",
   "execution_count": 63,
   "metadata": {
    "id": "Xo0FYDW69LAK",
    "slideshow": {
     "slide_type": "slide"
    }
   },
   "outputs": [],
   "source": [
    "# function definition with default arguments\n",
    "def simple_interest_def(p,n=1,r=10):\n",
    "  return (p*n*r/100)"
   ]
  },
  {
   "cell_type": "code",
   "execution_count": 273,
   "metadata": {
    "colab": {
     "base_uri": "https://localhost:8080/"
    },
    "id": "6aetWW839LuR",
    "outputId": "879644be-40e1-4dbd-eafe-6c28566fe199",
    "slideshow": {
     "slide_type": "slide"
    }
   },
   "outputs": [
    {
     "data": {
      "text/plain": [
       "500.0"
      ]
     },
     "execution_count": 273,
     "metadata": {},
     "output_type": "execute_result"
    }
   ],
   "source": [
    "simple_interest_def(1000,5)"
   ]
  },
  {
   "cell_type": "code",
   "execution_count": 274,
   "metadata": {
    "colab": {
     "base_uri": "https://localhost:8080/"
    },
    "id": "Ed0px86k9bMN",
    "outputId": "496513a3-4178-42cc-fc9e-13fc533615ae",
    "slideshow": {
     "slide_type": "slide"
    }
   },
   "outputs": [
    {
     "data": {
      "text/plain": [
       "300.0"
      ]
     },
     "execution_count": 274,
     "metadata": {},
     "output_type": "execute_result"
    }
   ],
   "source": [
    "simple_interest_def(1000,5,6)"
   ]
  },
  {
   "cell_type": "code",
   "execution_count": 275,
   "metadata": {
    "id": "nqxnAFqY9L_L",
    "slideshow": {
     "slide_type": "slide"
    }
   },
   "outputs": [],
   "source": [
    "# function definition with keyword arguments\n",
    "def simple_interest_key(p,n,r):\n",
    "  return (p*n*r/100)"
   ]
  },
  {
   "cell_type": "code",
   "execution_count": 276,
   "metadata": {
    "colab": {
     "base_uri": "https://localhost:8080/"
    },
    "id": "vjyCWXwd9lFP",
    "outputId": "818fdeee-1a93-456c-a358-de526629b304",
    "slideshow": {
     "slide_type": "slide"
    }
   },
   "outputs": [
    {
     "data": {
      "text/plain": [
       "300.0"
      ]
     },
     "execution_count": 276,
     "metadata": {},
     "output_type": "execute_result"
    }
   ],
   "source": [
    "simple_interest_key(r=6,n=5,p=1000)"
   ]
  },
  {
   "cell_type": "markdown",
   "metadata": {
    "slideshow": {
     "slide_type": "slide"
    }
   },
   "source": [
    "#### Everything is an object in Python"
   ]
  },
  {
   "cell_type": "code",
   "execution_count": 64,
   "metadata": {
    "slideshow": {
     "slide_type": "slide"
    }
   },
   "outputs": [],
   "source": [
    "a = int()\n",
    "b = float()\n",
    "s = str()\n",
    "c = complex()"
   ]
  },
  {
   "cell_type": "code",
   "execution_count": 65,
   "metadata": {
    "slideshow": {
     "slide_type": "slide"
    }
   },
   "outputs": [
    {
     "name": "stdout",
     "output_type": "stream",
     "text": [
      "Int is  0\n",
      "float is  0.0\n",
      "String is  \n",
      "Complex is  0j\n"
     ]
    }
   ],
   "source": [
    "print('Int is ',a)\n",
    "print('float is ',b)\n",
    "print('String is ',s)\n",
    "print('Complex is ',c)"
   ]
  },
  {
   "cell_type": "markdown",
   "metadata": {
    "slideshow": {
     "slide_type": "slide"
    }
   },
   "source": [
    "#### Each object has an unique identifier which is stored in the variable name"
   ]
  },
  {
   "cell_type": "code",
   "execution_count": 66,
   "metadata": {
    "slideshow": {
     "slide_type": "slide"
    }
   },
   "outputs": [
    {
     "data": {
      "text/plain": [
       "94614073351456"
      ]
     },
     "execution_count": 66,
     "metadata": {},
     "output_type": "execute_result"
    }
   ],
   "source": [
    "id(a)"
   ]
  },
  {
   "cell_type": "code",
   "execution_count": 67,
   "metadata": {
    "slideshow": {
     "slide_type": "slide"
    }
   },
   "outputs": [
    {
     "data": {
      "text/plain": [
       "140496973200848"
      ]
     },
     "execution_count": 67,
     "metadata": {},
     "output_type": "execute_result"
    }
   ],
   "source": [
    "id(b)"
   ]
  },
  {
   "cell_type": "code",
   "execution_count": 34,
   "metadata": {
    "slideshow": {
     "slide_type": "slide"
    }
   },
   "outputs": [
    {
     "data": {
      "text/plain": [
       "140607452558064"
      ]
     },
     "execution_count": 34,
     "metadata": {},
     "output_type": "execute_result"
    }
   ],
   "source": [
    "id(s)"
   ]
  },
  {
   "cell_type": "code",
   "execution_count": null,
   "metadata": {
    "slideshow": {
     "slide_type": "slide"
    }
   },
   "outputs": [],
   "source": []
  }
 ],
 "metadata": {
  "celltoolbar": "Slideshow",
  "colab": {
   "collapsed_sections": [],
   "name": "Hyundai_Monthly_theme.ipynb",
   "provenance": []
  },
  "kernelspec": {
   "display_name": "Python 3",
   "language": "python",
   "name": "python3"
  },
  "language_info": {
   "codemirror_mode": {
    "name": "ipython",
    "version": 3
   },
   "file_extension": ".py",
   "mimetype": "text/x-python",
   "name": "python",
   "nbconvert_exporter": "python",
   "pygments_lexer": "ipython3",
   "version": "3.8.8"
  }
 },
 "nbformat": 4,
 "nbformat_minor": 1
}
